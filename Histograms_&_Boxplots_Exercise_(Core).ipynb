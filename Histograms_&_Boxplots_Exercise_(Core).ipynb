{
  "nbformat": 4,
  "nbformat_minor": 0,
  "metadata": {
    "colab": {
      "provenance": [],
      "collapsed_sections": [],
      "authorship_tag": "ABX9TyOH6ocUrtVIj6KfGDLnJ1ux",
      "include_colab_link": true
    },
    "kernelspec": {
      "name": "python3",
      "display_name": "Python 3"
    },
    "language_info": {
      "name": "python"
    }
  },
  "cells": [
    {
      "cell_type": "markdown",
      "metadata": {
        "id": "view-in-github",
        "colab_type": "text"
      },
      "source": [
        "<a href=\"https://colab.research.google.com/github/GECarlo/CodingDojo/blob/main/Histograms_%26_Boxplots_Exercise_(Core).ipynb\" target=\"_parent\"><img src=\"https://colab.research.google.com/assets/colab-badge.svg\" alt=\"Open In Colab\"/></a>"
      ]
    },
    {
      "cell_type": "code",
      "execution_count": 2,
      "metadata": {
        "colab": {
          "base_uri": "https://localhost:8080/"
        },
        "id": "IcAreTFIqv_s",
        "outputId": "ef1aeff5-0593-4d26-eafa-bfc5766ddd4d"
      },
      "outputs": [
        {
          "output_type": "stream",
          "name": "stdout",
          "text": [
            "Mounted at /content/drive\n"
          ]
        }
      ],
      "source": [
        "# mount drive\n",
        "from google.colab import drive\n",
        "drive.mount ('/content/drive')"
      ]
    },
    {
      "cell_type": "code",
      "source": [
        "# import libraries\n",
        "import pandas as pd\n",
        "import numpy as np\n",
        "%matplotlib inline\n",
        "import matplotlib.pyplot as plt\n",
        "import seaborn as sns"
      ],
      "metadata": {
        "id": "-SDAHdCxqzTN"
      },
      "execution_count": 3,
      "outputs": []
    },
    {
      "cell_type": "code",
      "source": [
        "filename = '/content/drive/MyDrive/Colab Notebooks/catsvdogs.xlsx'\n",
        "df = pd.read_excel(filename)"
      ],
      "metadata": {
        "id": "jIg1307CqzXw"
      },
      "execution_count": 4,
      "outputs": []
    },
    {
      "cell_type": "code",
      "source": [
        "df.head()"
      ],
      "metadata": {
        "colab": {
          "base_uri": "https://localhost:8080/",
          "height": 302
        },
        "id": "a3g9OHh6qzbd",
        "outputId": "9238bab9-12ae-4c6b-e0a5-6aa545e1fbe0"
      },
      "execution_count": 5,
      "outputs": [
        {
          "output_type": "execute_result",
          "data": {
            "text/plain": [
              "     Location  Number of Households (in 1000)  \\\n",
              "0     Alabama                            1828   \n",
              "1     Arizona                            2515   \n",
              "2    Arkansas                            1148   \n",
              "3  California                           12974   \n",
              "4    Colorado                            1986   \n",
              "\n",
              "   Percentage of households with pets  Number of Pet Households (in 1000)  \\\n",
              "0                                59.5                                1088   \n",
              "1                                59.5                                1497   \n",
              "2                                62.4                                 716   \n",
              "3                                52.9                                6865   \n",
              "4                                61.3                                1217   \n",
              "\n",
              "   Percentage of Dog Owners  Dog Owning Households (1000s)  \\\n",
              "0                      44.1                            807   \n",
              "1                      40.1                           1008   \n",
              "2                      47.9                            550   \n",
              "3                      32.8                           4260   \n",
              "4                      42.5                            845   \n",
              "\n",
              "   Mean Number of Dogs per household  Dog Population (in 1000)  \\\n",
              "0                                1.7                      1410   \n",
              "1                                1.8                      1798   \n",
              "2                                2.0                      1097   \n",
              "3                                1.6                      6687   \n",
              "4                                1.6                      1349   \n",
              "\n",
              "   Percentage of Cat Owners  Cat Owning Households  Mean Number of Cats  \\\n",
              "0                      27.4                    501                  2.5   \n",
              "1                      29.6                    743                  1.9   \n",
              "2                      30.6                    351                  2.3   \n",
              "3                      28.3                   3687                  1.9   \n",
              "4                      32.3                    642                  1.9   \n",
              "\n",
              "   Cat Population  \n",
              "0            1252  \n",
              "1            1438  \n",
              "2             810  \n",
              "3            7118  \n",
              "4            1191  "
            ],
            "text/html": [
              "\n",
              "  <div id=\"df-66d65b0d-fcc9-4bb2-b10b-9a4d47038c9d\">\n",
              "    <div class=\"colab-df-container\">\n",
              "      <div>\n",
              "<style scoped>\n",
              "    .dataframe tbody tr th:only-of-type {\n",
              "        vertical-align: middle;\n",
              "    }\n",
              "\n",
              "    .dataframe tbody tr th {\n",
              "        vertical-align: top;\n",
              "    }\n",
              "\n",
              "    .dataframe thead th {\n",
              "        text-align: right;\n",
              "    }\n",
              "</style>\n",
              "<table border=\"1\" class=\"dataframe\">\n",
              "  <thead>\n",
              "    <tr style=\"text-align: right;\">\n",
              "      <th></th>\n",
              "      <th>Location</th>\n",
              "      <th>Number of Households (in 1000)</th>\n",
              "      <th>Percentage of households with pets</th>\n",
              "      <th>Number of Pet Households (in 1000)</th>\n",
              "      <th>Percentage of Dog Owners</th>\n",
              "      <th>Dog Owning Households (1000s)</th>\n",
              "      <th>Mean Number of Dogs per household</th>\n",
              "      <th>Dog Population (in 1000)</th>\n",
              "      <th>Percentage of Cat Owners</th>\n",
              "      <th>Cat Owning Households</th>\n",
              "      <th>Mean Number of Cats</th>\n",
              "      <th>Cat Population</th>\n",
              "    </tr>\n",
              "  </thead>\n",
              "  <tbody>\n",
              "    <tr>\n",
              "      <th>0</th>\n",
              "      <td>Alabama</td>\n",
              "      <td>1828</td>\n",
              "      <td>59.5</td>\n",
              "      <td>1088</td>\n",
              "      <td>44.1</td>\n",
              "      <td>807</td>\n",
              "      <td>1.7</td>\n",
              "      <td>1410</td>\n",
              "      <td>27.4</td>\n",
              "      <td>501</td>\n",
              "      <td>2.5</td>\n",
              "      <td>1252</td>\n",
              "    </tr>\n",
              "    <tr>\n",
              "      <th>1</th>\n",
              "      <td>Arizona</td>\n",
              "      <td>2515</td>\n",
              "      <td>59.5</td>\n",
              "      <td>1497</td>\n",
              "      <td>40.1</td>\n",
              "      <td>1008</td>\n",
              "      <td>1.8</td>\n",
              "      <td>1798</td>\n",
              "      <td>29.6</td>\n",
              "      <td>743</td>\n",
              "      <td>1.9</td>\n",
              "      <td>1438</td>\n",
              "    </tr>\n",
              "    <tr>\n",
              "      <th>2</th>\n",
              "      <td>Arkansas</td>\n",
              "      <td>1148</td>\n",
              "      <td>62.4</td>\n",
              "      <td>716</td>\n",
              "      <td>47.9</td>\n",
              "      <td>550</td>\n",
              "      <td>2.0</td>\n",
              "      <td>1097</td>\n",
              "      <td>30.6</td>\n",
              "      <td>351</td>\n",
              "      <td>2.3</td>\n",
              "      <td>810</td>\n",
              "    </tr>\n",
              "    <tr>\n",
              "      <th>3</th>\n",
              "      <td>California</td>\n",
              "      <td>12974</td>\n",
              "      <td>52.9</td>\n",
              "      <td>6865</td>\n",
              "      <td>32.8</td>\n",
              "      <td>4260</td>\n",
              "      <td>1.6</td>\n",
              "      <td>6687</td>\n",
              "      <td>28.3</td>\n",
              "      <td>3687</td>\n",
              "      <td>1.9</td>\n",
              "      <td>7118</td>\n",
              "    </tr>\n",
              "    <tr>\n",
              "      <th>4</th>\n",
              "      <td>Colorado</td>\n",
              "      <td>1986</td>\n",
              "      <td>61.3</td>\n",
              "      <td>1217</td>\n",
              "      <td>42.5</td>\n",
              "      <td>845</td>\n",
              "      <td>1.6</td>\n",
              "      <td>1349</td>\n",
              "      <td>32.3</td>\n",
              "      <td>642</td>\n",
              "      <td>1.9</td>\n",
              "      <td>1191</td>\n",
              "    </tr>\n",
              "  </tbody>\n",
              "</table>\n",
              "</div>\n",
              "      <button class=\"colab-df-convert\" onclick=\"convertToInteractive('df-66d65b0d-fcc9-4bb2-b10b-9a4d47038c9d')\"\n",
              "              title=\"Convert this dataframe to an interactive table.\"\n",
              "              style=\"display:none;\">\n",
              "        \n",
              "  <svg xmlns=\"http://www.w3.org/2000/svg\" height=\"24px\"viewBox=\"0 0 24 24\"\n",
              "       width=\"24px\">\n",
              "    <path d=\"M0 0h24v24H0V0z\" fill=\"none\"/>\n",
              "    <path d=\"M18.56 5.44l.94 2.06.94-2.06 2.06-.94-2.06-.94-.94-2.06-.94 2.06-2.06.94zm-11 1L8.5 8.5l.94-2.06 2.06-.94-2.06-.94L8.5 2.5l-.94 2.06-2.06.94zm10 10l.94 2.06.94-2.06 2.06-.94-2.06-.94-.94-2.06-.94 2.06-2.06.94z\"/><path d=\"M17.41 7.96l-1.37-1.37c-.4-.4-.92-.59-1.43-.59-.52 0-1.04.2-1.43.59L10.3 9.45l-7.72 7.72c-.78.78-.78 2.05 0 2.83L4 21.41c.39.39.9.59 1.41.59.51 0 1.02-.2 1.41-.59l7.78-7.78 2.81-2.81c.8-.78.8-2.07 0-2.86zM5.41 20L4 18.59l7.72-7.72 1.47 1.35L5.41 20z\"/>\n",
              "  </svg>\n",
              "      </button>\n",
              "      \n",
              "  <style>\n",
              "    .colab-df-container {\n",
              "      display:flex;\n",
              "      flex-wrap:wrap;\n",
              "      gap: 12px;\n",
              "    }\n",
              "\n",
              "    .colab-df-convert {\n",
              "      background-color: #E8F0FE;\n",
              "      border: none;\n",
              "      border-radius: 50%;\n",
              "      cursor: pointer;\n",
              "      display: none;\n",
              "      fill: #1967D2;\n",
              "      height: 32px;\n",
              "      padding: 0 0 0 0;\n",
              "      width: 32px;\n",
              "    }\n",
              "\n",
              "    .colab-df-convert:hover {\n",
              "      background-color: #E2EBFA;\n",
              "      box-shadow: 0px 1px 2px rgba(60, 64, 67, 0.3), 0px 1px 3px 1px rgba(60, 64, 67, 0.15);\n",
              "      fill: #174EA6;\n",
              "    }\n",
              "\n",
              "    [theme=dark] .colab-df-convert {\n",
              "      background-color: #3B4455;\n",
              "      fill: #D2E3FC;\n",
              "    }\n",
              "\n",
              "    [theme=dark] .colab-df-convert:hover {\n",
              "      background-color: #434B5C;\n",
              "      box-shadow: 0px 1px 3px 1px rgba(0, 0, 0, 0.15);\n",
              "      filter: drop-shadow(0px 1px 2px rgba(0, 0, 0, 0.3));\n",
              "      fill: #FFFFFF;\n",
              "    }\n",
              "  </style>\n",
              "\n",
              "      <script>\n",
              "        const buttonEl =\n",
              "          document.querySelector('#df-66d65b0d-fcc9-4bb2-b10b-9a4d47038c9d button.colab-df-convert');\n",
              "        buttonEl.style.display =\n",
              "          google.colab.kernel.accessAllowed ? 'block' : 'none';\n",
              "\n",
              "        async function convertToInteractive(key) {\n",
              "          const element = document.querySelector('#df-66d65b0d-fcc9-4bb2-b10b-9a4d47038c9d');\n",
              "          const dataTable =\n",
              "            await google.colab.kernel.invokeFunction('convertToInteractive',\n",
              "                                                     [key], {});\n",
              "          if (!dataTable) return;\n",
              "\n",
              "          const docLinkHtml = 'Like what you see? Visit the ' +\n",
              "            '<a target=\"_blank\" href=https://colab.research.google.com/notebooks/data_table.ipynb>data table notebook</a>'\n",
              "            + ' to learn more about interactive tables.';\n",
              "          element.innerHTML = '';\n",
              "          dataTable['output_type'] = 'display_data';\n",
              "          await google.colab.output.renderOutput(dataTable, element);\n",
              "          const docLink = document.createElement('div');\n",
              "          docLink.innerHTML = docLinkHtml;\n",
              "          element.appendChild(docLink);\n",
              "        }\n",
              "      </script>\n",
              "    </div>\n",
              "  </div>\n",
              "  "
            ]
          },
          "metadata": {},
          "execution_count": 5
        }
      ]
    },
    {
      "cell_type": "code",
      "source": [
        "df.shape"
      ],
      "metadata": {
        "colab": {
          "base_uri": "https://localhost:8080/"
        },
        "id": "d9HcdaG8qzfJ",
        "outputId": "007987e6-9f90-441d-e90a-1e6531cc5fc5"
      },
      "execution_count": 6,
      "outputs": [
        {
          "output_type": "execute_result",
          "data": {
            "text/plain": [
              "(49, 12)"
            ]
          },
          "metadata": {},
          "execution_count": 6
        }
      ]
    },
    {
      "cell_type": "code",
      "source": [
        "# 1. Plot a histogram of the Percentage of Dog Owners.\n",
        "df['Percentage of Dog Owners'].hist(grid = False);"
      ],
      "metadata": {
        "colab": {
          "base_uri": "https://localhost:8080/",
          "height": 265
        },
        "id": "bOlJV36YAMTy",
        "outputId": "a1bcfe14-52e5-46ff-aea8-c97f58dc7b92"
      },
      "execution_count": 7,
      "outputs": [
        {
          "output_type": "display_data",
          "data": {
            "text/plain": [
              "<Figure size 432x288 with 1 Axes>"
            ],
            "image/png": "[encoded data removed]"
          },
          "metadata": {
            "needs_background": "light"
          }
        }
      ]
    },
    {
      "cell_type": "code",
      "source": [
        "# 2. Plot a histogram of the Percentage of Cat Owners.\n",
        "df['Percentage of Cat Owners'].hist(grid = False);"
      ],
      "metadata": {
        "colab": {
          "base_uri": "https://localhost:8080/",
          "height": 265
        },
        "id": "qUiK105LAOpv",
        "outputId": "d85285b9-795d-4b87-c56f-42b52feabef0"
      },
      "execution_count": 8,
      "outputs": [
        {
          "output_type": "display_data",
          "data": {
            "text/plain": [
              "<Figure size 432x288 with 1 Axes>"
            ],
            "image/png": "[encoded data removed]"
          },
          "metadata": {
            "needs_background": "light"
          }
        }
      ]
    },
    {
      "cell_type": "code",
      "source": [
        "# 3a. What can we see by comparing these two histograms? What information does this tell us?\n",
        "# a comparison between cat vs dog owners suggests that cat owners own more cats/household vs dogs/household\n",
        "\n",
        "# 3b. Optional/Bonus: plot these two histograms on the same plot.\n",
        "x = df['Percentage of Dog Owners'].hist(bins = 7, grid = False);\n",
        "y = df['Percentage of Cat Owners'].hist(bins = 14, grid = False);"
      ],
      "metadata": {
        "colab": {
          "base_uri": "https://localhost:8080/",
          "height": 265
        },
        "id": "l0btlN4iqziI",
        "outputId": "25f3fb4a-86f1-4d83-92a2-a7d4733e2141"
      },
      "execution_count": 9,
      "outputs": [
        {
          "output_type": "display_data",
          "data": {
            "text/plain": [
              "<Figure size 432x288 with 1 Axes>"
            ],
            "image/png": "[encoded data removed]"
          },
          "metadata": {
            "needs_background": "light"
          }
        }
      ]
    },
    {
      "cell_type": "code",
      "source": [
        "# using sns\n",
        "sns.histplot(data = df, x = 'Percentage of Dog Owners', color = 'blue');\n",
        "sns.histplot(data = df, x = 'Percentage of Cat Owners', color = 'orange');"
      ],
      "metadata": {
        "colab": {
          "base_uri": "https://localhost:8080/",
          "height": 279
        },
        "id": "lBD3FUuk3b41",
        "outputId": "5ce5569e-706c-44d9-92a6-80fbba8c78da"
      },
      "execution_count": 21,
      "outputs": [
        {
          "output_type": "display_data",
          "data": {
            "text/plain": [
              "<Figure size 432x288 with 1 Axes>"
            ],
            "image/png": "[encoded data removed]"
          },
          "metadata": {
            "needs_background": "light"
          }
        }
      ]
    },
    {
      "cell_type": "code",
      "source": [
        "# 4. Create two boxplots on the same plot: one of the mean number of cats per household and the other of the mean number of dogs.\n",
        "cats = df['Mean Number of Cats']\n",
        "dogs = df['Mean Number of Dogs per household']\n",
        "\n",
        "plt.boxplot([cats, dogs], labels = ['Cats', 'Dogs']);"
      ],
      "metadata": {
        "id": "KRO9mzoKqzmt",
        "colab": {
          "base_uri": "https://localhost:8080/",
          "height": 265
        },
        "outputId": "c6a35de9-8616-4354-88db-ecc49fcd15f6"
      },
      "execution_count": 28,
      "outputs": [
        {
          "output_type": "display_data",
          "data": {
            "text/plain": [
              "<Figure size 432x288 with 1 Axes>"
            ],
            "image/png": "[encoded data removed]"
          },
          "metadata": {
            "needs_background": "light"
          }
        }
      ]
    },
    {
      "cell_type": "code",
      "source": [
        "plt.style.use('seaborn')\n",
        "cats = df['Mean Number of Cats']\n",
        "dogs = df['Mean Number of Dogs per household']\n",
        "\n",
        "box = plt.boxplot([cats,dogs], \n",
        "            labels=['Cats', 'Dogs'], \n",
        "            notch = True, \n",
        "            widths = .7, \n",
        "            patch_artist=True,\n",
        "            medianprops = dict(linestyle='-', linewidth=2, color='Yellow'),\n",
        "            boxprops = dict(linestyle='--', linewidth=2, color='Black', alpha = .5)\n",
        "            );\n",
        "            \n",
        "plt.ylabel('Mean Number of Animals per State');\n",
        "plt.setp(box[\"boxes\"][0], facecolor='orange');\n",
        "plt.setp(box[\"boxes\"][1], facecolor='blue');"
      ],
      "metadata": {
        "colab": {
          "base_uri": "https://localhost:8080/",
          "height": 347
        },
        "id": "PoxSMSJP6RuY",
        "outputId": "7991a750-e947-4f13-98aa-e4535e7e2a41"
      },
      "execution_count": 33,
      "outputs": [
        {
          "output_type": "display_data",
          "data": {
            "text/plain": [
              "<Figure size 576x396 with 1 Axes>"
            ],
            "image/png": "[encoded data removed]"
          },
          "metadata": {}
        }
      ]
    },
    {
      "cell_type": "code",
      "source": [
        "boxplot = sns.boxplot(data=df[['Mean Number of Cats', \n",
        "                               'Mean Number of Dogs per household']], \n",
        "                      notch=True, \n",
        "                      medianprops={\"color\": \"yellow\"})\n",
        "boxplot.set(ylabel='Mean Number of Animals per state');\n",
        "boxplot.set_xticklabels(['Cat',\n",
        "                   'Dog']);"
      ],
      "metadata": {
        "colab": {
          "base_uri": "https://localhost:8080/",
          "height": 347
        },
        "id": "229tqSQj7Ege",
        "outputId": "ec8a97c7-73b2-4ab3-d9ba-226d4694775c"
      },
      "execution_count": 35,
      "outputs": [
        {
          "output_type": "display_data",
          "data": {
            "text/plain": [
              "<Figure size 576x396 with 1 Axes>"
            ],
            "image/png": "[encoded data removed]"
          },
          "metadata": {}
        }
      ]
    },
    {
      "cell_type": "code",
      "source": [
        "# 5. What can we see by comparing these two boxplots? What information does this tell us?\n",
        "# this suggests that the ave dog owners have fewer dogs in the household vs cat owners\n",
        "# where the ave cat owners have a mean cats at home of 2 vis-a-vis 1.6 for dog owners"
      ],
      "metadata": {
        "id": "5jk9jasRqzp3"
      },
      "execution_count": 25,
      "outputs": []
    },
    {
      "cell_type": "code",
      "source": [
        "df.head()"
      ],
      "metadata": {
        "colab": {
          "base_uri": "https://localhost:8080/",
          "height": 302
        },
        "id": "FJCgYul_4unL",
        "outputId": "bdc6e350-9c6f-422d-9ca8-4bba09c471f0"
      },
      "execution_count": 27,
      "outputs": [
        {
          "output_type": "execute_result",
          "data": {
            "text/plain": [
              "     Location  Number of Households (in 1000)  \\\n",
              "0     Alabama                            1828   \n",
              "1     Arizona                            2515   \n",
              "2    Arkansas                            1148   \n",
              "3  California                           12974   \n",
              "4    Colorado                            1986   \n",
              "\n",
              "   Percentage of households with pets  Number of Pet Households (in 1000)  \\\n",
              "0                                59.5                                1088   \n",
              "1                                59.5                                1497   \n",
              "2                                62.4                                 716   \n",
              "3                                52.9                                6865   \n",
              "4                                61.3                                1217   \n",
              "\n",
              "   Percentage of Dog Owners  Dog Owning Households (1000s)  \\\n",
              "0                      44.1                            807   \n",
              "1                      40.1                           1008   \n",
              "2                      47.9                            550   \n",
              "3                      32.8                           4260   \n",
              "4                      42.5                            845   \n",
              "\n",
              "   Mean Number of Dogs per household  Dog Population (in 1000)  \\\n",
              "0                                1.7                      1410   \n",
              "1                                1.8                      1798   \n",
              "2                                2.0                      1097   \n",
              "3                                1.6                      6687   \n",
              "4                                1.6                      1349   \n",
              "\n",
              "   Percentage of Cat Owners  Cat Owning Households  Mean Number of Cats  \\\n",
              "0                      27.4                    501                  2.5   \n",
              "1                      29.6                    743                  1.9   \n",
              "2                      30.6                    351                  2.3   \n",
              "3                      28.3                   3687                  1.9   \n",
              "4                      32.3                    642                  1.9   \n",
              "\n",
              "   Cat Population  \n",
              "0            1252  \n",
              "1            1438  \n",
              "2             810  \n",
              "3            7118  \n",
              "4            1191  "
            ],
            "text/html": [
              "\n",
              "  <div id=\"df-ebd82e6c-896f-4493-8893-8a061a438947\">\n",
              "    <div class=\"colab-df-container\">\n",
              "      <div>\n",
              "<style scoped>\n",
              "    .dataframe tbody tr th:only-of-type {\n",
              "        vertical-align: middle;\n",
              "    }\n",
              "\n",
              "    .dataframe tbody tr th {\n",
              "        vertical-align: top;\n",
              "    }\n",
              "\n",
              "    .dataframe thead th {\n",
              "        text-align: right;\n",
              "    }\n",
              "</style>\n",
              "<table border=\"1\" class=\"dataframe\">\n",
              "  <thead>\n",
              "    <tr style=\"text-align: right;\">\n",
              "      <th></th>\n",
              "      <th>Location</th>\n",
              "      <th>Number of Households (in 1000)</th>\n",
              "      <th>Percentage of households with pets</th>\n",
              "      <th>Number of Pet Households (in 1000)</th>\n",
              "      <th>Percentage of Dog Owners</th>\n",
              "      <th>Dog Owning Households (1000s)</th>\n",
              "      <th>Mean Number of Dogs per household</th>\n",
              "      <th>Dog Population (in 1000)</th>\n",
              "      <th>Percentage of Cat Owners</th>\n",
              "      <th>Cat Owning Households</th>\n",
              "      <th>Mean Number of Cats</th>\n",
              "      <th>Cat Population</th>\n",
              "    </tr>\n",
              "  </thead>\n",
              "  <tbody>\n",
              "    <tr>\n",
              "      <th>0</th>\n",
              "      <td>Alabama</td>\n",
              "      <td>1828</td>\n",
              "      <td>59.5</td>\n",
              "      <td>1088</td>\n",
              "      <td>44.1</td>\n",
              "      <td>807</td>\n",
              "      <td>1.7</td>\n",
              "      <td>1410</td>\n",
              "      <td>27.4</td>\n",
              "      <td>501</td>\n",
              "      <td>2.5</td>\n",
              "      <td>1252</td>\n",
              "    </tr>\n",
              "    <tr>\n",
              "      <th>1</th>\n",
              "      <td>Arizona</td>\n",
              "      <td>2515</td>\n",
              "      <td>59.5</td>\n",
              "      <td>1497</td>\n",
              "      <td>40.1</td>\n",
              "      <td>1008</td>\n",
              "      <td>1.8</td>\n",
              "      <td>1798</td>\n",
              "      <td>29.6</td>\n",
              "      <td>743</td>\n",
              "      <td>1.9</td>\n",
              "      <td>1438</td>\n",
              "    </tr>\n",
              "    <tr>\n",
              "      <th>2</th>\n",
              "      <td>Arkansas</td>\n",
              "      <td>1148</td>\n",
              "      <td>62.4</td>\n",
              "      <td>716</td>\n",
              "      <td>47.9</td>\n",
              "      <td>550</td>\n",
              "      <td>2.0</td>\n",
              "      <td>1097</td>\n",
              "      <td>30.6</td>\n",
              "      <td>351</td>\n",
              "      <td>2.3</td>\n",
              "      <td>810</td>\n",
              "    </tr>\n",
              "    <tr>\n",
              "      <th>3</th>\n",
              "      <td>California</td>\n",
              "      <td>12974</td>\n",
              "      <td>52.9</td>\n",
              "      <td>6865</td>\n",
              "      <td>32.8</td>\n",
              "      <td>4260</td>\n",
              "      <td>1.6</td>\n",
              "      <td>6687</td>\n",
              "      <td>28.3</td>\n",
              "      <td>3687</td>\n",
              "      <td>1.9</td>\n",
              "      <td>7118</td>\n",
              "    </tr>\n",
              "    <tr>\n",
              "      <th>4</th>\n",
              "      <td>Colorado</td>\n",
              "      <td>1986</td>\n",
              "      <td>61.3</td>\n",
              "      <td>1217</td>\n",
              "      <td>42.5</td>\n",
              "      <td>845</td>\n",
              "      <td>1.6</td>\n",
              "      <td>1349</td>\n",
              "      <td>32.3</td>\n",
              "      <td>642</td>\n",
              "      <td>1.9</td>\n",
              "      <td>1191</td>\n",
              "    </tr>\n",
              "  </tbody>\n",
              "</table>\n",
              "</div>\n",
              "      <button class=\"colab-df-convert\" onclick=\"convertToInteractive('df-ebd82e6c-896f-4493-8893-8a061a438947')\"\n",
              "              title=\"Convert this dataframe to an interactive table.\"\n",
              "              style=\"display:none;\">\n",
              "        \n",
              "  <svg xmlns=\"http://www.w3.org/2000/svg\" height=\"24px\"viewBox=\"0 0 24 24\"\n",
              "       width=\"24px\">\n",
              "    <path d=\"M0 0h24v24H0V0z\" fill=\"none\"/>\n",
              "    <path d=\"M18.56 5.44l.94 2.06.94-2.06 2.06-.94-2.06-.94-.94-2.06-.94 2.06-2.06.94zm-11 1L8.5 8.5l.94-2.06 2.06-.94-2.06-.94L8.5 2.5l-.94 2.06-2.06.94zm10 10l.94 2.06.94-2.06 2.06-.94-2.06-.94-.94-2.06-.94 2.06-2.06.94z\"/><path d=\"M17.41 7.96l-1.37-1.37c-.4-.4-.92-.59-1.43-.59-.52 0-1.04.2-1.43.59L10.3 9.45l-7.72 7.72c-.78.78-.78 2.05 0 2.83L4 21.41c.39.39.9.59 1.41.59.51 0 1.02-.2 1.41-.59l7.78-7.78 2.81-2.81c.8-.78.8-2.07 0-2.86zM5.41 20L4 18.59l7.72-7.72 1.47 1.35L5.41 20z\"/>\n",
              "  </svg>\n",
              "      </button>\n",
              "      \n",
              "  <style>\n",
              "    .colab-df-container {\n",
              "      display:flex;\n",
              "      flex-wrap:wrap;\n",
              "      gap: 12px;\n",
              "    }\n",
              "\n",
              "    .colab-df-convert {\n",
              "      background-color: #E8F0FE;\n",
              "      border: none;\n",
              "      border-radius: 50%;\n",
              "      cursor: pointer;\n",
              "      display: none;\n",
              "      fill: #1967D2;\n",
              "      height: 32px;\n",
              "      padding: 0 0 0 0;\n",
              "      width: 32px;\n",
              "    }\n",
              "\n",
              "    .colab-df-convert:hover {\n",
              "      background-color: #E2EBFA;\n",
              "      box-shadow: 0px 1px 2px rgba(60, 64, 67, 0.3), 0px 1px 3px 1px rgba(60, 64, 67, 0.15);\n",
              "      fill: #174EA6;\n",
              "    }\n",
              "\n",
              "    [theme=dark] .colab-df-convert {\n",
              "      background-color: #3B4455;\n",
              "      fill: #D2E3FC;\n",
              "    }\n",
              "\n",
              "    [theme=dark] .colab-df-convert:hover {\n",
              "      background-color: #434B5C;\n",
              "      box-shadow: 0px 1px 3px 1px rgba(0, 0, 0, 0.15);\n",
              "      filter: drop-shadow(0px 1px 2px rgba(0, 0, 0, 0.3));\n",
              "      fill: #FFFFFF;\n",
              "    }\n",
              "  </style>\n",
              "\n",
              "      <script>\n",
              "        const buttonEl =\n",
              "          document.querySelector('#df-ebd82e6c-896f-4493-8893-8a061a438947 button.colab-df-convert');\n",
              "        buttonEl.style.display =\n",
              "          google.colab.kernel.accessAllowed ? 'block' : 'none';\n",
              "\n",
              "        async function convertToInteractive(key) {\n",
              "          const element = document.querySelector('#df-ebd82e6c-896f-4493-8893-8a061a438947');\n",
              "          const dataTable =\n",
              "            await google.colab.kernel.invokeFunction('convertToInteractive',\n",
              "                                                     [key], {});\n",
              "          if (!dataTable) return;\n",
              "\n",
              "          const docLinkHtml = 'Like what you see? Visit the ' +\n",
              "            '<a target=\"_blank\" href=https://colab.research.google.com/notebooks/data_table.ipynb>data table notebook</a>'\n",
              "            + ' to learn more about interactive tables.';\n",
              "          element.innerHTML = '';\n",
              "          dataTable['output_type'] = 'display_data';\n",
              "          await google.colab.output.renderOutput(dataTable, element);\n",
              "          const docLink = document.createElement('div');\n",
              "          docLink.innerHTML = docLinkHtml;\n",
              "          element.appendChild(docLink);\n",
              "        }\n",
              "      </script>\n",
              "    </div>\n",
              "  </div>\n",
              "  "
            ]
          },
          "metadata": {},
          "execution_count": 27
        }
      ]
    }
  ]
}