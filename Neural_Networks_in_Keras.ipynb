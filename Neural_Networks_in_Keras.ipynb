{
  "nbformat": 4,
  "nbformat_minor": 0,
  "metadata": {
    "colab": {
      "provenance": [],
      "authorship_tag": "ABX9TyM8sXx3q1dz3cDrTHDu4k1j",
      "include_colab_link": true
    },
    "kernelspec": {
      "name": "python3",
      "display_name": "Python 3"
    },
    "language_info": {
      "name": "python"
    }
  },
  "cells": [
    {
      "cell_type": "markdown",
      "metadata": {
        "id": "view-in-github",
        "colab_type": "text"
      },
      "source": [
        "<a href=\"https://colab.research.google.com/github/erwincarlogonzales/CodingDojo/blob/main/Neural_Networks_in_Keras.ipynb\" target=\"_parent\"><img src=\"https://colab.research.google.com/assets/colab-badge.svg\" alt=\"Open In Colab\"/></a>"
      ]
    },
    {
      "cell_type": "code",
      "source": [
        "from google.colab import drive\n",
        "drive.mount('/content/drive')"
      ],
      "metadata": {
        "colab": {
          "base_uri": "https://localhost:8080/"
        },
        "id": "lSfVdQfNjFbw",
        "outputId": "53d26da4-9c01-4ad3-b1d2-606144f99307"
      },
      "execution_count": 1,
      "outputs": [
        {
          "output_type": "stream",
          "name": "stdout",
          "text": [
            "Drive already mounted at /content/drive; to attempt to forcibly remount, call drive.mount(\"/content/drive\", force_remount=True).\n"
          ]
        }
      ]
    },
    {
      "cell_type": "code",
      "execution_count": 2,
      "metadata": {
        "id": "hU6Oyb-Iife6"
      },
      "outputs": [],
      "source": [
        "# import libraries\n",
        "import pandas as pd\n",
        "import numpy as np\n",
        "import matplotlib.pyplot as plt\n",
        "\n",
        "# preprocessing\n",
        "from sklearn.model_selection import train_test_split\n",
        "from sklearn.preprocessing import StandardScaler\n",
        "\n",
        "# model\n",
        "from tensorflow.keras.models import Sequential\n",
        "from tensorflow.keras.layers import Dense"
      ]
    },
    {
      "cell_type": "code",
      "source": [
        "# load data\n",
        "filename = '/content/drive/MyDrive/Colab Notebooks/nba.csv'\n",
        "df = pd.read_csv(filename, index_col = 'Name')\n",
        "df.head()"
      ],
      "metadata": {
        "colab": {
          "base_uri": "https://localhost:8080/",
          "height": 238
        },
        "id": "-1MrsveSkW54",
        "outputId": "25571b66-ec48-4c80-896c-218d7805b54f"
      },
      "execution_count": 3,
      "outputs": [
        {
          "output_type": "execute_result",
          "data": {
            "text/plain": [
              "                 GP   MIN  PTS  FGM  FGA   FG%  3P Made  3PA   3P%  FTM  FTA  \\\n",
              "Name                                                                           \n",
              "Brandon Ingram   36  27.4  7.4  2.6  7.6  34.7      0.5  2.1  25.0  1.6  2.3   \n",
              "Andrew Harrison  35  26.9  7.2  2.0  6.7  29.6      0.7  2.8  23.5  2.6  3.4   \n",
              "JaKarr Sampson   74  15.3  5.2  2.0  4.7  42.2      0.4  1.7  24.4  0.9  1.3   \n",
              "Malik Sealy      58  11.6  5.7  2.3  5.5  42.6      0.1  0.5  22.6  0.9  1.3   \n",
              "Matt Geiger      48  11.5  4.5  1.6  3.0  52.4      0.0  0.1   0.0  1.3  1.9   \n",
              "\n",
              "                  FT%  OREB  DREB  REB  AST  STL  BLK  TOV  TARGET_5Yrs  \n",
              "Name                                                                     \n",
              "Brandon Ingram   69.9   0.7   3.4  4.1  1.9  0.4  0.4  1.3          0.0  \n",
              "Andrew Harrison  76.5   0.5   2.0  2.4  3.7  1.1  0.5  1.6          0.0  \n",
              "JaKarr Sampson   67.0   0.5   1.7  2.2  1.0  0.5  0.3  1.0          0.0  \n",
              "Malik Sealy      68.9   1.0   0.9  1.9  0.8  0.6  0.1  1.0          1.0  \n",
              "Matt Geiger      67.4   1.0   1.5  2.5  0.3  0.3  0.4  0.8          1.0  "
            ],
            "text/html": [
              "\n",
              "  <div id=\"df-0370a9db-809f-4470-9d6c-8d7bd693eca9\">\n",
              "    <div class=\"colab-df-container\">\n",
              "      <div>\n",
              "<style scoped>\n",
              "    .dataframe tbody tr th:only-of-type {\n",
              "        vertical-align: middle;\n",
              "    }\n",
              "\n",
              "    .dataframe tbody tr th {\n",
              "        vertical-align: top;\n",
              "    }\n",
              "\n",
              "    .dataframe thead th {\n",
              "        text-align: right;\n",
              "    }\n",
              "</style>\n",
              "<table border=\"1\" class=\"dataframe\">\n",
              "  <thead>\n",
              "    <tr style=\"text-align: right;\">\n",
              "      <th></th>\n",
              "      <th>GP</th>\n",
              "      <th>MIN</th>\n",
              "      <th>PTS</th>\n",
              "      <th>FGM</th>\n",
              "      <th>FGA</th>\n",
              "      <th>FG%</th>\n",
              "      <th>3P Made</th>\n",
              "      <th>3PA</th>\n",
              "      <th>3P%</th>\n",
              "      <th>FTM</th>\n",
              "      <th>FTA</th>\n",
              "      <th>FT%</th>\n",
              "      <th>OREB</th>\n",
              "      <th>DREB</th>\n",
              "      <th>REB</th>\n",
              "      <th>AST</th>\n",
              "      <th>STL</th>\n",
              "      <th>BLK</th>\n",
              "      <th>TOV</th>\n",
              "      <th>TARGET_5Yrs</th>\n",
              "    </tr>\n",
              "    <tr>\n",
              "      <th>Name</th>\n",
              "      <th></th>\n",
              "      <th></th>\n",
              "      <th></th>\n",
              "      <th></th>\n",
              "      <th></th>\n",
              "      <th></th>\n",
              "      <th></th>\n",
              "      <th></th>\n",
              "      <th></th>\n",
              "      <th></th>\n",
              "      <th></th>\n",
              "      <th></th>\n",
              "      <th></th>\n",
              "      <th></th>\n",
              "      <th></th>\n",
              "      <th></th>\n",
              "      <th></th>\n",
              "      <th></th>\n",
              "      <th></th>\n",
              "      <th></th>\n",
              "    </tr>\n",
              "  </thead>\n",
              "  <tbody>\n",
              "    <tr>\n",
              "      <th>Brandon Ingram</th>\n",
              "      <td>36</td>\n",
              "      <td>27.4</td>\n",
              "      <td>7.4</td>\n",
              "      <td>2.6</td>\n",
              "      <td>7.6</td>\n",
              "      <td>34.7</td>\n",
              "      <td>0.5</td>\n",
              "      <td>2.1</td>\n",
              "      <td>25.0</td>\n",
              "      <td>1.6</td>\n",
              "      <td>2.3</td>\n",
              "      <td>69.9</td>\n",
              "      <td>0.7</td>\n",
              "      <td>3.4</td>\n",
              "      <td>4.1</td>\n",
              "      <td>1.9</td>\n",
              "      <td>0.4</td>\n",
              "      <td>0.4</td>\n",
              "      <td>1.3</td>\n",
              "      <td>0.0</td>\n",
              "    </tr>\n",
              "    <tr>\n",
              "      <th>Andrew Harrison</th>\n",
              "      <td>35</td>\n",
              "      <td>26.9</td>\n",
              "      <td>7.2</td>\n",
              "      <td>2.0</td>\n",
              "      <td>6.7</td>\n",
              "      <td>29.6</td>\n",
              "      <td>0.7</td>\n",
              "      <td>2.8</td>\n",
              "      <td>23.5</td>\n",
              "      <td>2.6</td>\n",
              "      <td>3.4</td>\n",
              "      <td>76.5</td>\n",
              "      <td>0.5</td>\n",
              "      <td>2.0</td>\n",
              "      <td>2.4</td>\n",
              "      <td>3.7</td>\n",
              "      <td>1.1</td>\n",
              "      <td>0.5</td>\n",
              "      <td>1.6</td>\n",
              "      <td>0.0</td>\n",
              "    </tr>\n",
              "    <tr>\n",
              "      <th>JaKarr Sampson</th>\n",
              "      <td>74</td>\n",
              "      <td>15.3</td>\n",
              "      <td>5.2</td>\n",
              "      <td>2.0</td>\n",
              "      <td>4.7</td>\n",
              "      <td>42.2</td>\n",
              "      <td>0.4</td>\n",
              "      <td>1.7</td>\n",
              "      <td>24.4</td>\n",
              "      <td>0.9</td>\n",
              "      <td>1.3</td>\n",
              "      <td>67.0</td>\n",
              "      <td>0.5</td>\n",
              "      <td>1.7</td>\n",
              "      <td>2.2</td>\n",
              "      <td>1.0</td>\n",
              "      <td>0.5</td>\n",
              "      <td>0.3</td>\n",
              "      <td>1.0</td>\n",
              "      <td>0.0</td>\n",
              "    </tr>\n",
              "    <tr>\n",
              "      <th>Malik Sealy</th>\n",
              "      <td>58</td>\n",
              "      <td>11.6</td>\n",
              "      <td>5.7</td>\n",
              "      <td>2.3</td>\n",
              "      <td>5.5</td>\n",
              "      <td>42.6</td>\n",
              "      <td>0.1</td>\n",
              "      <td>0.5</td>\n",
              "      <td>22.6</td>\n",
              "      <td>0.9</td>\n",
              "      <td>1.3</td>\n",
              "      <td>68.9</td>\n",
              "      <td>1.0</td>\n",
              "      <td>0.9</td>\n",
              "      <td>1.9</td>\n",
              "      <td>0.8</td>\n",
              "      <td>0.6</td>\n",
              "      <td>0.1</td>\n",
              "      <td>1.0</td>\n",
              "      <td>1.0</td>\n",
              "    </tr>\n",
              "    <tr>\n",
              "      <th>Matt Geiger</th>\n",
              "      <td>48</td>\n",
              "      <td>11.5</td>\n",
              "      <td>4.5</td>\n",
              "      <td>1.6</td>\n",
              "      <td>3.0</td>\n",
              "      <td>52.4</td>\n",
              "      <td>0.0</td>\n",
              "      <td>0.1</td>\n",
              "      <td>0.0</td>\n",
              "      <td>1.3</td>\n",
              "      <td>1.9</td>\n",
              "      <td>67.4</td>\n",
              "      <td>1.0</td>\n",
              "      <td>1.5</td>\n",
              "      <td>2.5</td>\n",
              "      <td>0.3</td>\n",
              "      <td>0.3</td>\n",
              "      <td>0.4</td>\n",
              "      <td>0.8</td>\n",
              "      <td>1.0</td>\n",
              "    </tr>\n",
              "  </tbody>\n",
              "</table>\n",
              "</div>\n",
              "      <button class=\"colab-df-convert\" onclick=\"convertToInteractive('df-0370a9db-809f-4470-9d6c-8d7bd693eca9')\"\n",
              "              title=\"Convert this dataframe to an interactive table.\"\n",
              "              style=\"display:none;\">\n",
              "        \n",
              "  <svg xmlns=\"http://www.w3.org/2000/svg\" height=\"24px\"viewBox=\"0 0 24 24\"\n",
              "       width=\"24px\">\n",
              "    <path d=\"M0 0h24v24H0V0z\" fill=\"none\"/>\n",
              "    <path d=\"M18.56 5.44l.94 2.06.94-2.06 2.06-.94-2.06-.94-.94-2.06-.94 2.06-2.06.94zm-11 1L8.5 8.5l.94-2.06 2.06-.94-2.06-.94L8.5 2.5l-.94 2.06-2.06.94zm10 10l.94 2.06.94-2.06 2.06-.94-2.06-.94-.94-2.06-.94 2.06-2.06.94z\"/><path d=\"M17.41 7.96l-1.37-1.37c-.4-.4-.92-.59-1.43-.59-.52 0-1.04.2-1.43.59L10.3 9.45l-7.72 7.72c-.78.78-.78 2.05 0 2.83L4 21.41c.39.39.9.59 1.41.59.51 0 1.02-.2 1.41-.59l7.78-7.78 2.81-2.81c.8-.78.8-2.07 0-2.86zM5.41 20L4 18.59l7.72-7.72 1.47 1.35L5.41 20z\"/>\n",
              "  </svg>\n",
              "      </button>\n",
              "      \n",
              "  <style>\n",
              "    .colab-df-container {\n",
              "      display:flex;\n",
              "      flex-wrap:wrap;\n",
              "      gap: 12px;\n",
              "    }\n",
              "\n",
              "    .colab-df-convert {\n",
              "      background-color: #E8F0FE;\n",
              "      border: none;\n",
              "      border-radius: 50%;\n",
              "      cursor: pointer;\n",
              "      display: none;\n",
              "      fill: #1967D2;\n",
              "      height: 32px;\n",
              "      padding: 0 0 0 0;\n",
              "      width: 32px;\n",
              "    }\n",
              "\n",
              "    .colab-df-convert:hover {\n",
              "      background-color: #E2EBFA;\n",
              "      box-shadow: 0px 1px 2px rgba(60, 64, 67, 0.3), 0px 1px 3px 1px rgba(60, 64, 67, 0.15);\n",
              "      fill: #174EA6;\n",
              "    }\n",
              "\n",
              "    [theme=dark] .colab-df-convert {\n",
              "      background-color: #3B4455;\n",
              "      fill: #D2E3FC;\n",
              "    }\n",
              "\n",
              "    [theme=dark] .colab-df-convert:hover {\n",
              "      background-color: #434B5C;\n",
              "      box-shadow: 0px 1px 3px 1px rgba(0, 0, 0, 0.15);\n",
              "      filter: drop-shadow(0px 1px 2px rgba(0, 0, 0, 0.3));\n",
              "      fill: #FFFFFF;\n",
              "    }\n",
              "  </style>\n",
              "\n",
              "      <script>\n",
              "        const buttonEl =\n",
              "          document.querySelector('#df-0370a9db-809f-4470-9d6c-8d7bd693eca9 button.colab-df-convert');\n",
              "        buttonEl.style.display =\n",
              "          google.colab.kernel.accessAllowed ? 'block' : 'none';\n",
              "\n",
              "        async function convertToInteractive(key) {\n",
              "          const element = document.querySelector('#df-0370a9db-809f-4470-9d6c-8d7bd693eca9');\n",
              "          const dataTable =\n",
              "            await google.colab.kernel.invokeFunction('convertToInteractive',\n",
              "                                                     [key], {});\n",
              "          if (!dataTable) return;\n",
              "\n",
              "          const docLinkHtml = 'Like what you see? Visit the ' +\n",
              "            '<a target=\"_blank\" href=https://colab.research.google.com/notebooks/data_table.ipynb>data table notebook</a>'\n",
              "            + ' to learn more about interactive tables.';\n",
              "          element.innerHTML = '';\n",
              "          dataTable['output_type'] = 'display_data';\n",
              "          await google.colab.output.renderOutput(dataTable, element);\n",
              "          const docLink = document.createElement('div');\n",
              "          docLink.innerHTML = docLinkHtml;\n",
              "          element.appendChild(docLink);\n",
              "        }\n",
              "      </script>\n",
              "    </div>\n",
              "  </div>\n",
              "  "
            ]
          },
          "metadata": {},
          "execution_count": 3
        }
      ]
    },
    {
      "cell_type": "markdown",
      "source": [
        "Data Cleaning"
      ],
      "metadata": {
        "id": "x1ZACftAkeBC"
      }
    },
    {
      "cell_type": "code",
      "source": [
        "# drop missing values\n",
        "df.dropna(inplace = True)"
      ],
      "metadata": {
        "id": "BN8-9ajJkjy-"
      },
      "execution_count": 4,
      "outputs": []
    },
    {
      "cell_type": "markdown",
      "source": [
        "Preprocessing"
      ],
      "metadata": {
        "id": "QWawfp5aktyV"
      }
    },
    {
      "cell_type": "code",
      "source": [
        "# determine target y and features X\n",
        "X = df.drop(columns = 'TARGET_5Yrs')\n",
        "y = df['TARGET_5Yrs']\n",
        "X.head()"
      ],
      "metadata": {
        "colab": {
          "base_uri": "https://localhost:8080/",
          "height": 238
        },
        "id": "gwEfYT-nkyjs",
        "outputId": "116662b8-2bf0-4de4-9cea-6c22b4d847a9"
      },
      "execution_count": 5,
      "outputs": [
        {
          "output_type": "execute_result",
          "data": {
            "text/plain": [
              "                 GP   MIN  PTS  FGM  FGA   FG%  3P Made  3PA   3P%  FTM  FTA  \\\n",
              "Name                                                                           \n",
              "Brandon Ingram   36  27.4  7.4  2.6  7.6  34.7      0.5  2.1  25.0  1.6  2.3   \n",
              "Andrew Harrison  35  26.9  7.2  2.0  6.7  29.6      0.7  2.8  23.5  2.6  3.4   \n",
              "JaKarr Sampson   74  15.3  5.2  2.0  4.7  42.2      0.4  1.7  24.4  0.9  1.3   \n",
              "Malik Sealy      58  11.6  5.7  2.3  5.5  42.6      0.1  0.5  22.6  0.9  1.3   \n",
              "Matt Geiger      48  11.5  4.5  1.6  3.0  52.4      0.0  0.1   0.0  1.3  1.9   \n",
              "\n",
              "                  FT%  OREB  DREB  REB  AST  STL  BLK  TOV  \n",
              "Name                                                        \n",
              "Brandon Ingram   69.9   0.7   3.4  4.1  1.9  0.4  0.4  1.3  \n",
              "Andrew Harrison  76.5   0.5   2.0  2.4  3.7  1.1  0.5  1.6  \n",
              "JaKarr Sampson   67.0   0.5   1.7  2.2  1.0  0.5  0.3  1.0  \n",
              "Malik Sealy      68.9   1.0   0.9  1.9  0.8  0.6  0.1  1.0  \n",
              "Matt Geiger      67.4   1.0   1.5  2.5  0.3  0.3  0.4  0.8  "
            ],
            "text/html": [
              "\n",
              "  <div id=\"df-8005820d-096e-4fce-b4fc-b2f89b504e4e\">\n",
              "    <div class=\"colab-df-container\">\n",
              "      <div>\n",
              "<style scoped>\n",
              "    .dataframe tbody tr th:only-of-type {\n",
              "        vertical-align: middle;\n",
              "    }\n",
              "\n",
              "    .dataframe tbody tr th {\n",
              "        vertical-align: top;\n",
              "    }\n",
              "\n",
              "    .dataframe thead th {\n",
              "        text-align: right;\n",
              "    }\n",
              "</style>\n",
              "<table border=\"1\" class=\"dataframe\">\n",
              "  <thead>\n",
              "    <tr style=\"text-align: right;\">\n",
              "      <th></th>\n",
              "      <th>GP</th>\n",
              "      <th>MIN</th>\n",
              "      <th>PTS</th>\n",
              "      <th>FGM</th>\n",
              "      <th>FGA</th>\n",
              "      <th>FG%</th>\n",
              "      <th>3P Made</th>\n",
              "      <th>3PA</th>\n",
              "      <th>3P%</th>\n",
              "      <th>FTM</th>\n",
              "      <th>FTA</th>\n",
              "      <th>FT%</th>\n",
              "      <th>OREB</th>\n",
              "      <th>DREB</th>\n",
              "      <th>REB</th>\n",
              "      <th>AST</th>\n",
              "      <th>STL</th>\n",
              "      <th>BLK</th>\n",
              "      <th>TOV</th>\n",
              "    </tr>\n",
              "    <tr>\n",
              "      <th>Name</th>\n",
              "      <th></th>\n",
              "      <th></th>\n",
              "      <th></th>\n",
              "      <th></th>\n",
              "      <th></th>\n",
              "      <th></th>\n",
              "      <th></th>\n",
              "      <th></th>\n",
              "      <th></th>\n",
              "      <th></th>\n",
              "      <th></th>\n",
              "      <th></th>\n",
              "      <th></th>\n",
              "      <th></th>\n",
              "      <th></th>\n",
              "      <th></th>\n",
              "      <th></th>\n",
              "      <th></th>\n",
              "      <th></th>\n",
              "    </tr>\n",
              "  </thead>\n",
              "  <tbody>\n",
              "    <tr>\n",
              "      <th>Brandon Ingram</th>\n",
              "      <td>36</td>\n",
              "      <td>27.4</td>\n",
              "      <td>7.4</td>\n",
              "      <td>2.6</td>\n",
              "      <td>7.6</td>\n",
              "      <td>34.7</td>\n",
              "      <td>0.5</td>\n",
              "      <td>2.1</td>\n",
              "      <td>25.0</td>\n",
              "      <td>1.6</td>\n",
              "      <td>2.3</td>\n",
              "      <td>69.9</td>\n",
              "      <td>0.7</td>\n",
              "      <td>3.4</td>\n",
              "      <td>4.1</td>\n",
              "      <td>1.9</td>\n",
              "      <td>0.4</td>\n",
              "      <td>0.4</td>\n",
              "      <td>1.3</td>\n",
              "    </tr>\n",
              "    <tr>\n",
              "      <th>Andrew Harrison</th>\n",
              "      <td>35</td>\n",
              "      <td>26.9</td>\n",
              "      <td>7.2</td>\n",
              "      <td>2.0</td>\n",
              "      <td>6.7</td>\n",
              "      <td>29.6</td>\n",
              "      <td>0.7</td>\n",
              "      <td>2.8</td>\n",
              "      <td>23.5</td>\n",
              "      <td>2.6</td>\n",
              "      <td>3.4</td>\n",
              "      <td>76.5</td>\n",
              "      <td>0.5</td>\n",
              "      <td>2.0</td>\n",
              "      <td>2.4</td>\n",
              "      <td>3.7</td>\n",
              "      <td>1.1</td>\n",
              "      <td>0.5</td>\n",
              "      <td>1.6</td>\n",
              "    </tr>\n",
              "    <tr>\n",
              "      <th>JaKarr Sampson</th>\n",
              "      <td>74</td>\n",
              "      <td>15.3</td>\n",
              "      <td>5.2</td>\n",
              "      <td>2.0</td>\n",
              "      <td>4.7</td>\n",
              "      <td>42.2</td>\n",
              "      <td>0.4</td>\n",
              "      <td>1.7</td>\n",
              "      <td>24.4</td>\n",
              "      <td>0.9</td>\n",
              "      <td>1.3</td>\n",
              "      <td>67.0</td>\n",
              "      <td>0.5</td>\n",
              "      <td>1.7</td>\n",
              "      <td>2.2</td>\n",
              "      <td>1.0</td>\n",
              "      <td>0.5</td>\n",
              "      <td>0.3</td>\n",
              "      <td>1.0</td>\n",
              "    </tr>\n",
              "    <tr>\n",
              "      <th>Malik Sealy</th>\n",
              "      <td>58</td>\n",
              "      <td>11.6</td>\n",
              "      <td>5.7</td>\n",
              "      <td>2.3</td>\n",
              "      <td>5.5</td>\n",
              "      <td>42.6</td>\n",
              "      <td>0.1</td>\n",
              "      <td>0.5</td>\n",
              "      <td>22.6</td>\n",
              "      <td>0.9</td>\n",
              "      <td>1.3</td>\n",
              "      <td>68.9</td>\n",
              "      <td>1.0</td>\n",
              "      <td>0.9</td>\n",
              "      <td>1.9</td>\n",
              "      <td>0.8</td>\n",
              "      <td>0.6</td>\n",
              "      <td>0.1</td>\n",
              "      <td>1.0</td>\n",
              "    </tr>\n",
              "    <tr>\n",
              "      <th>Matt Geiger</th>\n",
              "      <td>48</td>\n",
              "      <td>11.5</td>\n",
              "      <td>4.5</td>\n",
              "      <td>1.6</td>\n",
              "      <td>3.0</td>\n",
              "      <td>52.4</td>\n",
              "      <td>0.0</td>\n",
              "      <td>0.1</td>\n",
              "      <td>0.0</td>\n",
              "      <td>1.3</td>\n",
              "      <td>1.9</td>\n",
              "      <td>67.4</td>\n",
              "      <td>1.0</td>\n",
              "      <td>1.5</td>\n",
              "      <td>2.5</td>\n",
              "      <td>0.3</td>\n",
              "      <td>0.3</td>\n",
              "      <td>0.4</td>\n",
              "      <td>0.8</td>\n",
              "    </tr>\n",
              "  </tbody>\n",
              "</table>\n",
              "</div>\n",
              "      <button class=\"colab-df-convert\" onclick=\"convertToInteractive('df-8005820d-096e-4fce-b4fc-b2f89b504e4e')\"\n",
              "              title=\"Convert this dataframe to an interactive table.\"\n",
              "              style=\"display:none;\">\n",
              "        \n",
              "  <svg xmlns=\"http://www.w3.org/2000/svg\" height=\"24px\"viewBox=\"0 0 24 24\"\n",
              "       width=\"24px\">\n",
              "    <path d=\"M0 0h24v24H0V0z\" fill=\"none\"/>\n",
              "    <path d=\"M18.56 5.44l.94 2.06.94-2.06 2.06-.94-2.06-.94-.94-2.06-.94 2.06-2.06.94zm-11 1L8.5 8.5l.94-2.06 2.06-.94-2.06-.94L8.5 2.5l-.94 2.06-2.06.94zm10 10l.94 2.06.94-2.06 2.06-.94-2.06-.94-.94-2.06-.94 2.06-2.06.94z\"/><path d=\"M17.41 7.96l-1.37-1.37c-.4-.4-.92-.59-1.43-.59-.52 0-1.04.2-1.43.59L10.3 9.45l-7.72 7.72c-.78.78-.78 2.05 0 2.83L4 21.41c.39.39.9.59 1.41.59.51 0 1.02-.2 1.41-.59l7.78-7.78 2.81-2.81c.8-.78.8-2.07 0-2.86zM5.41 20L4 18.59l7.72-7.72 1.47 1.35L5.41 20z\"/>\n",
              "  </svg>\n",
              "      </button>\n",
              "      \n",
              "  <style>\n",
              "    .colab-df-container {\n",
              "      display:flex;\n",
              "      flex-wrap:wrap;\n",
              "      gap: 12px;\n",
              "    }\n",
              "\n",
              "    .colab-df-convert {\n",
              "      background-color: #E8F0FE;\n",
              "      border: none;\n",
              "      border-radius: 50%;\n",
              "      cursor: pointer;\n",
              "      display: none;\n",
              "      fill: #1967D2;\n",
              "      height: 32px;\n",
              "      padding: 0 0 0 0;\n",
              "      width: 32px;\n",
              "    }\n",
              "\n",
              "    .colab-df-convert:hover {\n",
              "      background-color: #E2EBFA;\n",
              "      box-shadow: 0px 1px 2px rgba(60, 64, 67, 0.3), 0px 1px 3px 1px rgba(60, 64, 67, 0.15);\n",
              "      fill: #174EA6;\n",
              "    }\n",
              "\n",
              "    [theme=dark] .colab-df-convert {\n",
              "      background-color: #3B4455;\n",
              "      fill: #D2E3FC;\n",
              "    }\n",
              "\n",
              "    [theme=dark] .colab-df-convert:hover {\n",
              "      background-color: #434B5C;\n",
              "      box-shadow: 0px 1px 3px 1px rgba(0, 0, 0, 0.15);\n",
              "      filter: drop-shadow(0px 1px 2px rgba(0, 0, 0, 0.3));\n",
              "      fill: #FFFFFF;\n",
              "    }\n",
              "  </style>\n",
              "\n",
              "      <script>\n",
              "        const buttonEl =\n",
              "          document.querySelector('#df-8005820d-096e-4fce-b4fc-b2f89b504e4e button.colab-df-convert');\n",
              "        buttonEl.style.display =\n",
              "          google.colab.kernel.accessAllowed ? 'block' : 'none';\n",
              "\n",
              "        async function convertToInteractive(key) {\n",
              "          const element = document.querySelector('#df-8005820d-096e-4fce-b4fc-b2f89b504e4e');\n",
              "          const dataTable =\n",
              "            await google.colab.kernel.invokeFunction('convertToInteractive',\n",
              "                                                     [key], {});\n",
              "          if (!dataTable) return;\n",
              "\n",
              "          const docLinkHtml = 'Like what you see? Visit the ' +\n",
              "            '<a target=\"_blank\" href=https://colab.research.google.com/notebooks/data_table.ipynb>data table notebook</a>'\n",
              "            + ' to learn more about interactive tables.';\n",
              "          element.innerHTML = '';\n",
              "          dataTable['output_type'] = 'display_data';\n",
              "          await google.colab.output.renderOutput(dataTable, element);\n",
              "          const docLink = document.createElement('div');\n",
              "          docLink.innerHTML = docLinkHtml;\n",
              "          element.appendChild(docLink);\n",
              "        }\n",
              "      </script>\n",
              "    </div>\n",
              "  </div>\n",
              "  "
            ]
          },
          "metadata": {},
          "execution_count": 5
        }
      ]
    },
    {
      "cell_type": "code",
      "source": [
        "# split the data\n",
        "X_train, X_test, y_train, y_test = train_test_split(X, y, random_state = 3)"
      ],
      "metadata": {
        "id": "UV5ck19_k-i8"
      },
      "execution_count": 6,
      "outputs": []
    },
    {
      "cell_type": "code",
      "source": [
        "# scale the data\n",
        "scaler = StandardScaler()\n",
        "\n",
        "# fit and transform features X\n",
        "X_train = scaler.fit_transform(X_train)\n",
        "X_test = scaler.transform(X_test)"
      ],
      "metadata": {
        "id": "G7OUUt8_lTYE"
      },
      "execution_count": 7,
      "outputs": []
    },
    {
      "cell_type": "markdown",
      "source": [
        "# Step 1. Define our network structure\n",
        "\n",
        "The first thing we need to define is how many features we have in our X data. This will be used in our first hidden layer, in which we have to tell Keras how many features to be expecting from our input layer."
      ],
      "metadata": {
        "id": "_LGcmzNql0Zc"
      }
    },
    {
      "cell_type": "code",
      "source": [
        "# define network structure\n",
        "# save the number of features as our input shape\n",
        "input_shape = X_train.shape[1]\n",
        "input_shape"
      ],
      "metadata": {
        "colab": {
          "base_uri": "https://localhost:8080/"
        },
        "id": "REVGpvqxl8zr",
        "outputId": "b1c2266c-5430-4a1b-c6df-dd18e9775d2f"
      },
      "execution_count": 8,
      "outputs": [
        {
          "output_type": "execute_result",
          "data": {
            "text/plain": [
              "19"
            ]
          },
          "metadata": {},
          "execution_count": 8
        }
      ]
    },
    {
      "cell_type": "code",
      "source": [
        "# define model type\n",
        "# model layers are run sequentially. This is a very common type of model to use in Keras.\n",
        "model = Sequential()"
      ],
      "metadata": {
        "id": "8ow6opb0mFwu"
      },
      "execution_count": 9,
      "outputs": []
    },
    {
      "cell_type": "code",
      "source": [
        "# add first hidden layer\n",
        "model.add(Dense(19, # how many neurons you have in your first hidden layer\n",
        "                input_dim = input_shape, # how many number of cols or features\n",
        "                activation = 'relu')) # what activation function are you using\n",
        "\n",
        "# add second hidden layer\n",
        "model.add(Dense(10, activation = 'relu'))\n",
        "\n",
        "# add output layer\n",
        "model.add(Dense(1, activation = 'sigmoid'))"
      ],
      "metadata": {
        "id": "Wkc46T8BmTKL"
      },
      "execution_count": 10,
      "outputs": []
    },
    {
      "cell_type": "markdown",
      "source": [
        "# Step 2. Compile the model\n",
        "\n",
        "When compiling our model, we need to specify which loss function we are using and what optimizer we will use to fit. A common optimizer to choose is the Adam optimizer.\n",
        "\n",
        "For regression problems, we would want to use a loss function like MSE.\n",
        "\n",
        "For binary classification problems like this one, we want to use the binary cross-entropy loss. This can be abbreviated as \"bce\" in Keras.\n",
        "\n",
        "For multiclass classification problems, we would use categorical cross-entropy."
      ],
      "metadata": {
        "id": "nNHxQn3LnhPL"
      }
    },
    {
      "cell_type": "code",
      "source": [
        "# compile the model\n",
        "model.compile(loss = 'bce', optimizer = 'adam')"
      ],
      "metadata": {
        "id": "FTl6rRPSnuoh"
      },
      "execution_count": 11,
      "outputs": []
    },
    {
      "cell_type": "markdown",
      "source": [
        "# Step. 3 Fit the model\n",
        "\n",
        " save the fitting process so we can visualize our loss over time."
      ],
      "metadata": {
        "id": "UB9byxBPoAYR"
      }
    },
    {
      "cell_type": "code",
      "source": [
        "# fit the model\n",
        "history = model.fit(X_train, y_train,\n",
        "                    validation_data = (X_test, y_test), \n",
        "                    epochs=10) # an epoch is the number of times our model with run through the training data back and forth"
      ],
      "metadata": {
        "colab": {
          "base_uri": "https://localhost:8080/"
        },
        "id": "vj3b80t_oFnF",
        "outputId": "5bb30b38-4743-4c90-87db-7e6334f0826c"
      },
      "execution_count": 12,
      "outputs": [
        {
          "output_type": "stream",
          "name": "stdout",
          "text": [
            "Epoch 1/10\n",
            "32/32 [==============================] - 2s 26ms/step - loss: 0.7236 - val_loss: 0.6929\n",
            "Epoch 2/10\n",
            "32/32 [==============================] - 0s 12ms/step - loss: 0.6718 - val_loss: 0.6521\n",
            "Epoch 3/10\n",
            "32/32 [==============================] - 0s 8ms/step - loss: 0.6449 - val_loss: 0.6279\n",
            "Epoch 4/10\n",
            "32/32 [==============================] - 0s 9ms/step - loss: 0.6256 - val_loss: 0.6088\n",
            "Epoch 5/10\n",
            "32/32 [==============================] - 0s 11ms/step - loss: 0.6144 - val_loss: 0.5963\n",
            "Epoch 6/10\n",
            "32/32 [==============================] - 0s 9ms/step - loss: 0.6078 - val_loss: 0.5918\n",
            "Epoch 7/10\n",
            "32/32 [==============================] - 0s 10ms/step - loss: 0.6026 - val_loss: 0.5877\n",
            "Epoch 8/10\n",
            "32/32 [==============================] - 0s 9ms/step - loss: 0.5982 - val_loss: 0.5827\n",
            "Epoch 9/10\n",
            "32/32 [==============================] - 0s 10ms/step - loss: 0.5925 - val_loss: 0.5787\n",
            "Epoch 10/10\n",
            "32/32 [==============================] - 0s 6ms/step - loss: 0.5862 - val_loss: 0.5739\n"
          ]
        }
      ]
    },
    {
      "cell_type": "code",
      "source": [
        "# visualize the loss\n",
        "plt.plot(history.history['loss'], label = 'Train loss')\n",
        "plt.plot(history.history['val_loss'], label = 'Test loss')\n",
        "plt.legend();"
      ],
      "metadata": {
        "colab": {
          "base_uri": "https://localhost:8080/",
          "height": 265
        },
        "id": "J3Z_NIXxo5M7",
        "outputId": "84836685-2495-454b-e222-f5b80fd83154"
      },
      "execution_count": 13,
      "outputs": [
        {
          "output_type": "display_data",
          "data": {
            "text/plain": [
              "<Figure size 432x288 with 1 Axes>"
            ],
            "image/png": "[encoded data removed]"
          },
          "metadata": {
            "needs_background": "light"
          }
        }
      ]
    }
  ]
}