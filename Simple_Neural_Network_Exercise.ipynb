{
  "nbformat": 4,
  "nbformat_minor": 0,
  "metadata": {
    "colab": {
      "provenance": [],
      "mount_file_id": "1cG_OR0h2J_JTHHTLa60VV9wNk3ViHGca",
      "authorship_tag": "ABX9TyPyRJ1rERl0HhkxkygXVIJF",
      "include_colab_link": true
    },
    "kernelspec": {
      "name": "python3",
      "display_name": "Python 3"
    },
    "language_info": {
      "name": "python"
    }
  },
  "cells": [
    {
      "cell_type": "markdown",
      "metadata": {
        "id": "view-in-github",
        "colab_type": "text"
      },
      "source": [
        "<a href=\"https://colab.research.google.com/github/erwincarlogonzales/CodingDojo/blob/main/Simple_Neural_Network_Exercise.ipynb\" target=\"_parent\"><img src=\"https://colab.research.google.com/assets/colab-badge.svg\" alt=\"Open In Colab\"/></a>"
      ]
    },
    {
      "cell_type": "code",
      "execution_count": 1,
      "metadata": {
        "id": "hs17jD5cpvJv"
      },
      "outputs": [],
      "source": [
        "# import libraries\n",
        "import pandas as pd\n",
        "import numpy as np\n",
        "import matplotlib.pyplot as plt\n",
        "\n",
        "# preprocessing\n",
        "from sklearn.model_selection import train_test_split\n",
        "from sklearn.preprocessing import StandardScaler, OneHotEncoder\n",
        "from sklearn.compose import make_column_selector, make_column_transformer\n",
        "from sklearn.pipeline import make_pipeline\n",
        "from sklearn import set_config\n",
        "set_config(display = 'diagram')\n",
        "\n",
        "# model\n",
        "from tensorflow.keras.models import Sequential\n",
        "from tensorflow.keras.layers import Dense, Dropout"
      ]
    },
    {
      "cell_type": "code",
      "source": [
        "# load file\n",
        "filename = '/content/drive/MyDrive/Colab Notebooks/heart - heart.csv'\n",
        "df = pd.read_csv(filename, index_col = 'Age')\n",
        "df.head()"
      ],
      "metadata": {
        "colab": {
          "base_uri": "https://localhost:8080/",
          "height": 302
        },
        "id": "gIJwUgYlxQqI",
        "outputId": "1963d1db-c81c-40ff-8daf-8a7b1923e973"
      },
      "execution_count": 2,
      "outputs": [
        {
          "output_type": "execute_result",
          "data": {
            "text/plain": [
              "    Sex ChestPainType  RestingBP  Cholesterol  FastingBS RestingECG  MaxHR  \\\n",
              "Age                                                                          \n",
              "40    M           ATA        140          289          0     Normal    172   \n",
              "49    F           NAP        160          180          0     Normal    156   \n",
              "37    M           ATA        130          283          0         ST     98   \n",
              "48    F           ASY        138          214          0     Normal    108   \n",
              "54    M           NAP        150          195          0     Normal    122   \n",
              "\n",
              "    ExerciseAngina  Oldpeak ST_Slope  HeartDisease  \n",
              "Age                                                 \n",
              "40               N      0.0       Up             0  \n",
              "49               N      1.0     Flat             1  \n",
              "37               N      0.0       Up             0  \n",
              "48               Y      1.5     Flat             1  \n",
              "54               N      0.0       Up             0  "
            ],
            "text/html": [
              "\n",
              "  <div id=\"df-add55d6c-ef27-46c9-872d-176dab4f2ef2\">\n",
              "    <div class=\"colab-df-container\">\n",
              "      <div>\n",
              "<style scoped>\n",
              "    .dataframe tbody tr th:only-of-type {\n",
              "        vertical-align: middle;\n",
              "    }\n",
              "\n",
              "    .dataframe tbody tr th {\n",
              "        vertical-align: top;\n",
              "    }\n",
              "\n",
              "    .dataframe thead th {\n",
              "        text-align: right;\n",
              "    }\n",
              "</style>\n",
              "<table border=\"1\" class=\"dataframe\">\n",
              "  <thead>\n",
              "    <tr style=\"text-align: right;\">\n",
              "      <th></th>\n",
              "      <th>Sex</th>\n",
              "      <th>ChestPainType</th>\n",
              "      <th>RestingBP</th>\n",
              "      <th>Cholesterol</th>\n",
              "      <th>FastingBS</th>\n",
              "      <th>RestingECG</th>\n",
              "      <th>MaxHR</th>\n",
              "      <th>ExerciseAngina</th>\n",
              "      <th>Oldpeak</th>\n",
              "      <th>ST_Slope</th>\n",
              "      <th>HeartDisease</th>\n",
              "    </tr>\n",
              "    <tr>\n",
              "      <th>Age</th>\n",
              "      <th></th>\n",
              "      <th></th>\n",
              "      <th></th>\n",
              "      <th></th>\n",
              "      <th></th>\n",
              "      <th></th>\n",
              "      <th></th>\n",
              "      <th></th>\n",
              "      <th></th>\n",
              "      <th></th>\n",
              "      <th></th>\n",
              "    </tr>\n",
              "  </thead>\n",
              "  <tbody>\n",
              "    <tr>\n",
              "      <th>40</th>\n",
              "      <td>M</td>\n",
              "      <td>ATA</td>\n",
              "      <td>140</td>\n",
              "      <td>289</td>\n",
              "      <td>0</td>\n",
              "      <td>Normal</td>\n",
              "      <td>172</td>\n",
              "      <td>N</td>\n",
              "      <td>0.0</td>\n",
              "      <td>Up</td>\n",
              "      <td>0</td>\n",
              "    </tr>\n",
              "    <tr>\n",
              "      <th>49</th>\n",
              "      <td>F</td>\n",
              "      <td>NAP</td>\n",
              "      <td>160</td>\n",
              "      <td>180</td>\n",
              "      <td>0</td>\n",
              "      <td>Normal</td>\n",
              "      <td>156</td>\n",
              "      <td>N</td>\n",
              "      <td>1.0</td>\n",
              "      <td>Flat</td>\n",
              "      <td>1</td>\n",
              "    </tr>\n",
              "    <tr>\n",
              "      <th>37</th>\n",
              "      <td>M</td>\n",
              "      <td>ATA</td>\n",
              "      <td>130</td>\n",
              "      <td>283</td>\n",
              "      <td>0</td>\n",
              "      <td>ST</td>\n",
              "      <td>98</td>\n",
              "      <td>N</td>\n",
              "      <td>0.0</td>\n",
              "      <td>Up</td>\n",
              "      <td>0</td>\n",
              "    </tr>\n",
              "    <tr>\n",
              "      <th>48</th>\n",
              "      <td>F</td>\n",
              "      <td>ASY</td>\n",
              "      <td>138</td>\n",
              "      <td>214</td>\n",
              "      <td>0</td>\n",
              "      <td>Normal</td>\n",
              "      <td>108</td>\n",
              "      <td>Y</td>\n",
              "      <td>1.5</td>\n",
              "      <td>Flat</td>\n",
              "      <td>1</td>\n",
              "    </tr>\n",
              "    <tr>\n",
              "      <th>54</th>\n",
              "      <td>M</td>\n",
              "      <td>NAP</td>\n",
              "      <td>150</td>\n",
              "      <td>195</td>\n",
              "      <td>0</td>\n",
              "      <td>Normal</td>\n",
              "      <td>122</td>\n",
              "      <td>N</td>\n",
              "      <td>0.0</td>\n",
              "      <td>Up</td>\n",
              "      <td>0</td>\n",
              "    </tr>\n",
              "  </tbody>\n",
              "</table>\n",
              "</div>\n",
              "      <button class=\"colab-df-convert\" onclick=\"convertToInteractive('df-add55d6c-ef27-46c9-872d-176dab4f2ef2')\"\n",
              "              title=\"Convert this dataframe to an interactive table.\"\n",
              "              style=\"display:none;\">\n",
              "        \n",
              "  <svg xmlns=\"http://www.w3.org/2000/svg\" height=\"24px\"viewBox=\"0 0 24 24\"\n",
              "       width=\"24px\">\n",
              "    <path d=\"M0 0h24v24H0V0z\" fill=\"none\"/>\n",
              "    <path d=\"M18.56 5.44l.94 2.06.94-2.06 2.06-.94-2.06-.94-.94-2.06-.94 2.06-2.06.94zm-11 1L8.5 8.5l.94-2.06 2.06-.94-2.06-.94L8.5 2.5l-.94 2.06-2.06.94zm10 10l.94 2.06.94-2.06 2.06-.94-2.06-.94-.94-2.06-.94 2.06-2.06.94z\"/><path d=\"M17.41 7.96l-1.37-1.37c-.4-.4-.92-.59-1.43-.59-.52 0-1.04.2-1.43.59L10.3 9.45l-7.72 7.72c-.78.78-.78 2.05 0 2.83L4 21.41c.39.39.9.59 1.41.59.51 0 1.02-.2 1.41-.59l7.78-7.78 2.81-2.81c.8-.78.8-2.07 0-2.86zM5.41 20L4 18.59l7.72-7.72 1.47 1.35L5.41 20z\"/>\n",
              "  </svg>\n",
              "      </button>\n",
              "      \n",
              "  <style>\n",
              "    .colab-df-container {\n",
              "      display:flex;\n",
              "      flex-wrap:wrap;\n",
              "      gap: 12px;\n",
              "    }\n",
              "\n",
              "    .colab-df-convert {\n",
              "      background-color: #E8F0FE;\n",
              "      border: none;\n",
              "      border-radius: 50%;\n",
              "      cursor: pointer;\n",
              "      display: none;\n",
              "      fill: #1967D2;\n",
              "      height: 32px;\n",
              "      padding: 0 0 0 0;\n",
              "      width: 32px;\n",
              "    }\n",
              "\n",
              "    .colab-df-convert:hover {\n",
              "      background-color: #E2EBFA;\n",
              "      box-shadow: 0px 1px 2px rgba(60, 64, 67, 0.3), 0px 1px 3px 1px rgba(60, 64, 67, 0.15);\n",
              "      fill: #174EA6;\n",
              "    }\n",
              "\n",
              "    [theme=dark] .colab-df-convert {\n",
              "      background-color: #3B4455;\n",
              "      fill: #D2E3FC;\n",
              "    }\n",
              "\n",
              "    [theme=dark] .colab-df-convert:hover {\n",
              "      background-color: #434B5C;\n",
              "      box-shadow: 0px 1px 3px 1px rgba(0, 0, 0, 0.15);\n",
              "      filter: drop-shadow(0px 1px 2px rgba(0, 0, 0, 0.3));\n",
              "      fill: #FFFFFF;\n",
              "    }\n",
              "  </style>\n",
              "\n",
              "      <script>\n",
              "        const buttonEl =\n",
              "          document.querySelector('#df-add55d6c-ef27-46c9-872d-176dab4f2ef2 button.colab-df-convert');\n",
              "        buttonEl.style.display =\n",
              "          google.colab.kernel.accessAllowed ? 'block' : 'none';\n",
              "\n",
              "        async function convertToInteractive(key) {\n",
              "          const element = document.querySelector('#df-add55d6c-ef27-46c9-872d-176dab4f2ef2');\n",
              "          const dataTable =\n",
              "            await google.colab.kernel.invokeFunction('convertToInteractive',\n",
              "                                                     [key], {});\n",
              "          if (!dataTable) return;\n",
              "\n",
              "          const docLinkHtml = 'Like what you see? Visit the ' +\n",
              "            '<a target=\"_blank\" href=https://colab.research.google.com/notebooks/data_table.ipynb>data table notebook</a>'\n",
              "            + ' to learn more about interactive tables.';\n",
              "          element.innerHTML = '';\n",
              "          dataTable['output_type'] = 'display_data';\n",
              "          await google.colab.output.renderOutput(dataTable, element);\n",
              "          const docLink = document.createElement('div');\n",
              "          docLink.innerHTML = docLinkHtml;\n",
              "          element.appendChild(docLink);\n",
              "        }\n",
              "      </script>\n",
              "    </div>\n",
              "  </div>\n",
              "  "
            ]
          },
          "metadata": {},
          "execution_count": 2
        }
      ]
    },
    {
      "cell_type": "markdown",
      "source": [
        "# Data cleaning"
      ],
      "metadata": {
        "id": "kFCYZJikyFc8"
      }
    },
    {
      "cell_type": "code",
      "source": [
        "df.isna().sum()"
      ],
      "metadata": {
        "colab": {
          "base_uri": "https://localhost:8080/"
        },
        "id": "sPc2gAD3yIe7",
        "outputId": "310a4acc-b3e8-4b00-e472-9d7d07f09ada"
      },
      "execution_count": 3,
      "outputs": [
        {
          "output_type": "execute_result",
          "data": {
            "text/plain": [
              "Sex               0\n",
              "ChestPainType     0\n",
              "RestingBP         0\n",
              "Cholesterol       0\n",
              "FastingBS         0\n",
              "RestingECG        0\n",
              "MaxHR             0\n",
              "ExerciseAngina    0\n",
              "Oldpeak           0\n",
              "ST_Slope          0\n",
              "HeartDisease      0\n",
              "dtype: int64"
            ]
          },
          "metadata": {},
          "execution_count": 3
        }
      ]
    },
    {
      "cell_type": "code",
      "source": [
        "df.duplicated().sum()"
      ],
      "metadata": {
        "colab": {
          "base_uri": "https://localhost:8080/"
        },
        "id": "rorEjPA8yLRG",
        "outputId": "20a918b7-5b7e-4f3e-b84d-c792d28ea4d4"
      },
      "execution_count": 4,
      "outputs": [
        {
          "output_type": "execute_result",
          "data": {
            "text/plain": [
              "0"
            ]
          },
          "metadata": {},
          "execution_count": 4
        }
      ]
    },
    {
      "cell_type": "code",
      "source": [
        "df.shape"
      ],
      "metadata": {
        "id": "00sIJEbXyPkN",
        "colab": {
          "base_uri": "https://localhost:8080/"
        },
        "outputId": "1c85a2b5-a6e5-428a-80d7-2a5942f81664"
      },
      "execution_count": 5,
      "outputs": [
        {
          "output_type": "execute_result",
          "data": {
            "text/plain": [
              "(918, 11)"
            ]
          },
          "metadata": {},
          "execution_count": 5
        }
      ]
    },
    {
      "cell_type": "code",
      "source": [
        "df.describe()"
      ],
      "metadata": {
        "colab": {
          "base_uri": "https://localhost:8080/",
          "height": 300
        },
        "id": "ar7Ij8K6yTbc",
        "outputId": "adf48ffd-c51d-4a05-b4a8-31a5915a3013"
      },
      "execution_count": 6,
      "outputs": [
        {
          "output_type": "execute_result",
          "data": {
            "text/plain": [
              "        RestingBP  Cholesterol   FastingBS       MaxHR     Oldpeak  \\\n",
              "count  918.000000   918.000000  918.000000  918.000000  918.000000   \n",
              "mean   132.396514   198.799564    0.233115  136.809368    0.887364   \n",
              "std     18.514154   109.384145    0.423046   25.460334    1.066570   \n",
              "min      0.000000     0.000000    0.000000   60.000000   -2.600000   \n",
              "25%    120.000000   173.250000    0.000000  120.000000    0.000000   \n",
              "50%    130.000000   223.000000    0.000000  138.000000    0.600000   \n",
              "75%    140.000000   267.000000    0.000000  156.000000    1.500000   \n",
              "max    200.000000   603.000000    1.000000  202.000000    6.200000   \n",
              "\n",
              "       HeartDisease  \n",
              "count    918.000000  \n",
              "mean       0.553377  \n",
              "std        0.497414  \n",
              "min        0.000000  \n",
              "25%        0.000000  \n",
              "50%        1.000000  \n",
              "75%        1.000000  \n",
              "max        1.000000  "
            ],
            "text/html": [
              "\n",
              "  <div id=\"df-04081f1e-d80f-4eef-8c03-754f5d6d8b1d\">\n",
              "    <div class=\"colab-df-container\">\n",
              "      <div>\n",
              "<style scoped>\n",
              "    .dataframe tbody tr th:only-of-type {\n",
              "        vertical-align: middle;\n",
              "    }\n",
              "\n",
              "    .dataframe tbody tr th {\n",
              "        vertical-align: top;\n",
              "    }\n",
              "\n",
              "    .dataframe thead th {\n",
              "        text-align: right;\n",
              "    }\n",
              "</style>\n",
              "<table border=\"1\" class=\"dataframe\">\n",
              "  <thead>\n",
              "    <tr style=\"text-align: right;\">\n",
              "      <th></th>\n",
              "      <th>RestingBP</th>\n",
              "      <th>Cholesterol</th>\n",
              "      <th>FastingBS</th>\n",
              "      <th>MaxHR</th>\n",
              "      <th>Oldpeak</th>\n",
              "      <th>HeartDisease</th>\n",
              "    </tr>\n",
              "  </thead>\n",
              "  <tbody>\n",
              "    <tr>\n",
              "      <th>count</th>\n",
              "      <td>918.000000</td>\n",
              "      <td>918.000000</td>\n",
              "      <td>918.000000</td>\n",
              "      <td>918.000000</td>\n",
              "      <td>918.000000</td>\n",
              "      <td>918.000000</td>\n",
              "    </tr>\n",
              "    <tr>\n",
              "      <th>mean</th>\n",
              "      <td>132.396514</td>\n",
              "      <td>198.799564</td>\n",
              "      <td>0.233115</td>\n",
              "      <td>136.809368</td>\n",
              "      <td>0.887364</td>\n",
              "      <td>0.553377</td>\n",
              "    </tr>\n",
              "    <tr>\n",
              "      <th>std</th>\n",
              "      <td>18.514154</td>\n",
              "      <td>109.384145</td>\n",
              "      <td>0.423046</td>\n",
              "      <td>25.460334</td>\n",
              "      <td>1.066570</td>\n",
              "      <td>0.497414</td>\n",
              "    </tr>\n",
              "    <tr>\n",
              "      <th>min</th>\n",
              "      <td>0.000000</td>\n",
              "      <td>0.000000</td>\n",
              "      <td>0.000000</td>\n",
              "      <td>60.000000</td>\n",
              "      <td>-2.600000</td>\n",
              "      <td>0.000000</td>\n",
              "    </tr>\n",
              "    <tr>\n",
              "      <th>25%</th>\n",
              "      <td>120.000000</td>\n",
              "      <td>173.250000</td>\n",
              "      <td>0.000000</td>\n",
              "      <td>120.000000</td>\n",
              "      <td>0.000000</td>\n",
              "      <td>0.000000</td>\n",
              "    </tr>\n",
              "    <tr>\n",
              "      <th>50%</th>\n",
              "      <td>130.000000</td>\n",
              "      <td>223.000000</td>\n",
              "      <td>0.000000</td>\n",
              "      <td>138.000000</td>\n",
              "      <td>0.600000</td>\n",
              "      <td>1.000000</td>\n",
              "    </tr>\n",
              "    <tr>\n",
              "      <th>75%</th>\n",
              "      <td>140.000000</td>\n",
              "      <td>267.000000</td>\n",
              "      <td>0.000000</td>\n",
              "      <td>156.000000</td>\n",
              "      <td>1.500000</td>\n",
              "      <td>1.000000</td>\n",
              "    </tr>\n",
              "    <tr>\n",
              "      <th>max</th>\n",
              "      <td>200.000000</td>\n",
              "      <td>603.000000</td>\n",
              "      <td>1.000000</td>\n",
              "      <td>202.000000</td>\n",
              "      <td>6.200000</td>\n",
              "      <td>1.000000</td>\n",
              "    </tr>\n",
              "  </tbody>\n",
              "</table>\n",
              "</div>\n",
              "      <button class=\"colab-df-convert\" onclick=\"convertToInteractive('df-04081f1e-d80f-4eef-8c03-754f5d6d8b1d')\"\n",
              "              title=\"Convert this dataframe to an interactive table.\"\n",
              "              style=\"display:none;\">\n",
              "        \n",
              "  <svg xmlns=\"http://www.w3.org/2000/svg\" height=\"24px\"viewBox=\"0 0 24 24\"\n",
              "       width=\"24px\">\n",
              "    <path d=\"M0 0h24v24H0V0z\" fill=\"none\"/>\n",
              "    <path d=\"M18.56 5.44l.94 2.06.94-2.06 2.06-.94-2.06-.94-.94-2.06-.94 2.06-2.06.94zm-11 1L8.5 8.5l.94-2.06 2.06-.94-2.06-.94L8.5 2.5l-.94 2.06-2.06.94zm10 10l.94 2.06.94-2.06 2.06-.94-2.06-.94-.94-2.06-.94 2.06-2.06.94z\"/><path d=\"M17.41 7.96l-1.37-1.37c-.4-.4-.92-.59-1.43-.59-.52 0-1.04.2-1.43.59L10.3 9.45l-7.72 7.72c-.78.78-.78 2.05 0 2.83L4 21.41c.39.39.9.59 1.41.59.51 0 1.02-.2 1.41-.59l7.78-7.78 2.81-2.81c.8-.78.8-2.07 0-2.86zM5.41 20L4 18.59l7.72-7.72 1.47 1.35L5.41 20z\"/>\n",
              "  </svg>\n",
              "      </button>\n",
              "      \n",
              "  <style>\n",
              "    .colab-df-container {\n",
              "      display:flex;\n",
              "      flex-wrap:wrap;\n",
              "      gap: 12px;\n",
              "    }\n",
              "\n",
              "    .colab-df-convert {\n",
              "      background-color: #E8F0FE;\n",
              "      border: none;\n",
              "      border-radius: 50%;\n",
              "      cursor: pointer;\n",
              "      display: none;\n",
              "      fill: #1967D2;\n",
              "      height: 32px;\n",
              "      padding: 0 0 0 0;\n",
              "      width: 32px;\n",
              "    }\n",
              "\n",
              "    .colab-df-convert:hover {\n",
              "      background-color: #E2EBFA;\n",
              "      box-shadow: 0px 1px 2px rgba(60, 64, 67, 0.3), 0px 1px 3px 1px rgba(60, 64, 67, 0.15);\n",
              "      fill: #174EA6;\n",
              "    }\n",
              "\n",
              "    [theme=dark] .colab-df-convert {\n",
              "      background-color: #3B4455;\n",
              "      fill: #D2E3FC;\n",
              "    }\n",
              "\n",
              "    [theme=dark] .colab-df-convert:hover {\n",
              "      background-color: #434B5C;\n",
              "      box-shadow: 0px 1px 3px 1px rgba(0, 0, 0, 0.15);\n",
              "      filter: drop-shadow(0px 1px 2px rgba(0, 0, 0, 0.3));\n",
              "      fill: #FFFFFF;\n",
              "    }\n",
              "  </style>\n",
              "\n",
              "      <script>\n",
              "        const buttonEl =\n",
              "          document.querySelector('#df-04081f1e-d80f-4eef-8c03-754f5d6d8b1d button.colab-df-convert');\n",
              "        buttonEl.style.display =\n",
              "          google.colab.kernel.accessAllowed ? 'block' : 'none';\n",
              "\n",
              "        async function convertToInteractive(key) {\n",
              "          const element = document.querySelector('#df-04081f1e-d80f-4eef-8c03-754f5d6d8b1d');\n",
              "          const dataTable =\n",
              "            await google.colab.kernel.invokeFunction('convertToInteractive',\n",
              "                                                     [key], {});\n",
              "          if (!dataTable) return;\n",
              "\n",
              "          const docLinkHtml = 'Like what you see? Visit the ' +\n",
              "            '<a target=\"_blank\" href=https://colab.research.google.com/notebooks/data_table.ipynb>data table notebook</a>'\n",
              "            + ' to learn more about interactive tables.';\n",
              "          element.innerHTML = '';\n",
              "          dataTable['output_type'] = 'display_data';\n",
              "          await google.colab.output.renderOutput(dataTable, element);\n",
              "          const docLink = document.createElement('div');\n",
              "          docLink.innerHTML = docLinkHtml;\n",
              "          element.appendChild(docLink);\n",
              "        }\n",
              "      </script>\n",
              "    </div>\n",
              "  </div>\n",
              "  "
            ]
          },
          "metadata": {},
          "execution_count": 6
        }
      ]
    },
    {
      "cell_type": "markdown",
      "source": [
        "# Preprocessing"
      ],
      "metadata": {
        "id": "XZF4LsbEyWTD"
      }
    },
    {
      "cell_type": "code",
      "source": [
        "# determine target y and features X\n",
        "y = df['HeartDisease']\n",
        "X = df.drop(columns = 'HeartDisease')\n",
        "X.head()"
      ],
      "metadata": {
        "colab": {
          "base_uri": "https://localhost:8080/",
          "height": 302
        },
        "id": "71-q0ogyyh-o",
        "outputId": "60a14ec2-31fc-4888-9515-e38bb537fb56"
      },
      "execution_count": 7,
      "outputs": [
        {
          "output_type": "execute_result",
          "data": {
            "text/plain": [
              "    Sex ChestPainType  RestingBP  Cholesterol  FastingBS RestingECG  MaxHR  \\\n",
              "Age                                                                          \n",
              "40    M           ATA        140          289          0     Normal    172   \n",
              "49    F           NAP        160          180          0     Normal    156   \n",
              "37    M           ATA        130          283          0         ST     98   \n",
              "48    F           ASY        138          214          0     Normal    108   \n",
              "54    M           NAP        150          195          0     Normal    122   \n",
              "\n",
              "    ExerciseAngina  Oldpeak ST_Slope  \n",
              "Age                                   \n",
              "40               N      0.0       Up  \n",
              "49               N      1.0     Flat  \n",
              "37               N      0.0       Up  \n",
              "48               Y      1.5     Flat  \n",
              "54               N      0.0       Up  "
            ],
            "text/html": [
              "\n",
              "  <div id=\"df-02f43b1e-9919-434e-8642-c1f2414e9cac\">\n",
              "    <div class=\"colab-df-container\">\n",
              "      <div>\n",
              "<style scoped>\n",
              "    .dataframe tbody tr th:only-of-type {\n",
              "        vertical-align: middle;\n",
              "    }\n",
              "\n",
              "    .dataframe tbody tr th {\n",
              "        vertical-align: top;\n",
              "    }\n",
              "\n",
              "    .dataframe thead th {\n",
              "        text-align: right;\n",
              "    }\n",
              "</style>\n",
              "<table border=\"1\" class=\"dataframe\">\n",
              "  <thead>\n",
              "    <tr style=\"text-align: right;\">\n",
              "      <th></th>\n",
              "      <th>Sex</th>\n",
              "      <th>ChestPainType</th>\n",
              "      <th>RestingBP</th>\n",
              "      <th>Cholesterol</th>\n",
              "      <th>FastingBS</th>\n",
              "      <th>RestingECG</th>\n",
              "      <th>MaxHR</th>\n",
              "      <th>ExerciseAngina</th>\n",
              "      <th>Oldpeak</th>\n",
              "      <th>ST_Slope</th>\n",
              "    </tr>\n",
              "    <tr>\n",
              "      <th>Age</th>\n",
              "      <th></th>\n",
              "      <th></th>\n",
              "      <th></th>\n",
              "      <th></th>\n",
              "      <th></th>\n",
              "      <th></th>\n",
              "      <th></th>\n",
              "      <th></th>\n",
              "      <th></th>\n",
              "      <th></th>\n",
              "    </tr>\n",
              "  </thead>\n",
              "  <tbody>\n",
              "    <tr>\n",
              "      <th>40</th>\n",
              "      <td>M</td>\n",
              "      <td>ATA</td>\n",
              "      <td>140</td>\n",
              "      <td>289</td>\n",
              "      <td>0</td>\n",
              "      <td>Normal</td>\n",
              "      <td>172</td>\n",
              "      <td>N</td>\n",
              "      <td>0.0</td>\n",
              "      <td>Up</td>\n",
              "    </tr>\n",
              "    <tr>\n",
              "      <th>49</th>\n",
              "      <td>F</td>\n",
              "      <td>NAP</td>\n",
              "      <td>160</td>\n",
              "      <td>180</td>\n",
              "      <td>0</td>\n",
              "      <td>Normal</td>\n",
              "      <td>156</td>\n",
              "      <td>N</td>\n",
              "      <td>1.0</td>\n",
              "      <td>Flat</td>\n",
              "    </tr>\n",
              "    <tr>\n",
              "      <th>37</th>\n",
              "      <td>M</td>\n",
              "      <td>ATA</td>\n",
              "      <td>130</td>\n",
              "      <td>283</td>\n",
              "      <td>0</td>\n",
              "      <td>ST</td>\n",
              "      <td>98</td>\n",
              "      <td>N</td>\n",
              "      <td>0.0</td>\n",
              "      <td>Up</td>\n",
              "    </tr>\n",
              "    <tr>\n",
              "      <th>48</th>\n",
              "      <td>F</td>\n",
              "      <td>ASY</td>\n",
              "      <td>138</td>\n",
              "      <td>214</td>\n",
              "      <td>0</td>\n",
              "      <td>Normal</td>\n",
              "      <td>108</td>\n",
              "      <td>Y</td>\n",
              "      <td>1.5</td>\n",
              "      <td>Flat</td>\n",
              "    </tr>\n",
              "    <tr>\n",
              "      <th>54</th>\n",
              "      <td>M</td>\n",
              "      <td>NAP</td>\n",
              "      <td>150</td>\n",
              "      <td>195</td>\n",
              "      <td>0</td>\n",
              "      <td>Normal</td>\n",
              "      <td>122</td>\n",
              "      <td>N</td>\n",
              "      <td>0.0</td>\n",
              "      <td>Up</td>\n",
              "    </tr>\n",
              "  </tbody>\n",
              "</table>\n",
              "</div>\n",
              "      <button class=\"colab-df-convert\" onclick=\"convertToInteractive('df-02f43b1e-9919-434e-8642-c1f2414e9cac')\"\n",
              "              title=\"Convert this dataframe to an interactive table.\"\n",
              "              style=\"display:none;\">\n",
              "        \n",
              "  <svg xmlns=\"http://www.w3.org/2000/svg\" height=\"24px\"viewBox=\"0 0 24 24\"\n",
              "       width=\"24px\">\n",
              "    <path d=\"M0 0h24v24H0V0z\" fill=\"none\"/>\n",
              "    <path d=\"M18.56 5.44l.94 2.06.94-2.06 2.06-.94-2.06-.94-.94-2.06-.94 2.06-2.06.94zm-11 1L8.5 8.5l.94-2.06 2.06-.94-2.06-.94L8.5 2.5l-.94 2.06-2.06.94zm10 10l.94 2.06.94-2.06 2.06-.94-2.06-.94-.94-2.06-.94 2.06-2.06.94z\"/><path d=\"M17.41 7.96l-1.37-1.37c-.4-.4-.92-.59-1.43-.59-.52 0-1.04.2-1.43.59L10.3 9.45l-7.72 7.72c-.78.78-.78 2.05 0 2.83L4 21.41c.39.39.9.59 1.41.59.51 0 1.02-.2 1.41-.59l7.78-7.78 2.81-2.81c.8-.78.8-2.07 0-2.86zM5.41 20L4 18.59l7.72-7.72 1.47 1.35L5.41 20z\"/>\n",
              "  </svg>\n",
              "      </button>\n",
              "      \n",
              "  <style>\n",
              "    .colab-df-container {\n",
              "      display:flex;\n",
              "      flex-wrap:wrap;\n",
              "      gap: 12px;\n",
              "    }\n",
              "\n",
              "    .colab-df-convert {\n",
              "      background-color: #E8F0FE;\n",
              "      border: none;\n",
              "      border-radius: 50%;\n",
              "      cursor: pointer;\n",
              "      display: none;\n",
              "      fill: #1967D2;\n",
              "      height: 32px;\n",
              "      padding: 0 0 0 0;\n",
              "      width: 32px;\n",
              "    }\n",
              "\n",
              "    .colab-df-convert:hover {\n",
              "      background-color: #E2EBFA;\n",
              "      box-shadow: 0px 1px 2px rgba(60, 64, 67, 0.3), 0px 1px 3px 1px rgba(60, 64, 67, 0.15);\n",
              "      fill: #174EA6;\n",
              "    }\n",
              "\n",
              "    [theme=dark] .colab-df-convert {\n",
              "      background-color: #3B4455;\n",
              "      fill: #D2E3FC;\n",
              "    }\n",
              "\n",
              "    [theme=dark] .colab-df-convert:hover {\n",
              "      background-color: #434B5C;\n",
              "      box-shadow: 0px 1px 3px 1px rgba(0, 0, 0, 0.15);\n",
              "      filter: drop-shadow(0px 1px 2px rgba(0, 0, 0, 0.3));\n",
              "      fill: #FFFFFF;\n",
              "    }\n",
              "  </style>\n",
              "\n",
              "      <script>\n",
              "        const buttonEl =\n",
              "          document.querySelector('#df-02f43b1e-9919-434e-8642-c1f2414e9cac button.colab-df-convert');\n",
              "        buttonEl.style.display =\n",
              "          google.colab.kernel.accessAllowed ? 'block' : 'none';\n",
              "\n",
              "        async function convertToInteractive(key) {\n",
              "          const element = document.querySelector('#df-02f43b1e-9919-434e-8642-c1f2414e9cac');\n",
              "          const dataTable =\n",
              "            await google.colab.kernel.invokeFunction('convertToInteractive',\n",
              "                                                     [key], {});\n",
              "          if (!dataTable) return;\n",
              "\n",
              "          const docLinkHtml = 'Like what you see? Visit the ' +\n",
              "            '<a target=\"_blank\" href=https://colab.research.google.com/notebooks/data_table.ipynb>data table notebook</a>'\n",
              "            + ' to learn more about interactive tables.';\n",
              "          element.innerHTML = '';\n",
              "          dataTable['output_type'] = 'display_data';\n",
              "          await google.colab.output.renderOutput(dataTable, element);\n",
              "          const docLink = document.createElement('div');\n",
              "          docLink.innerHTML = docLinkHtml;\n",
              "          element.appendChild(docLink);\n",
              "        }\n",
              "      </script>\n",
              "    </div>\n",
              "  </div>\n",
              "  "
            ]
          },
          "metadata": {},
          "execution_count": 7
        }
      ]
    },
    {
      "cell_type": "code",
      "source": [
        "# split the data\n",
        "X_train, X_test, y_train, y_test = train_test_split(X, y, random_state = 42)"
      ],
      "metadata": {
        "id": "-d7NBpCqyvzV"
      },
      "execution_count": 8,
      "outputs": []
    },
    {
      "cell_type": "code",
      "source": [
        "# instantitate column selector\n",
        "cat_selector = make_column_selector(dtype_include = 'object')\n",
        "num_selector = make_column_selector(dtype_include = 'number')"
      ],
      "metadata": {
        "id": "BkusTOcSllVF"
      },
      "execution_count": 9,
      "outputs": []
    },
    {
      "cell_type": "code",
      "source": [
        "# instantiate encoders\n",
        "ohe = OneHotEncoder(sparse = False, handle_unknown = 'ignore')\n",
        "scaler = StandardScaler()"
      ],
      "metadata": {
        "id": "9_eJunfQy4lE"
      },
      "execution_count": 10,
      "outputs": []
    },
    {
      "cell_type": "code",
      "source": [
        "# create pipelines\n",
        "cat_pipe = make_pipeline(ohe, scaler)\n",
        "num_pipe = make_pipeline(scaler)"
      ],
      "metadata": {
        "id": "nmbPRBq5lqEO"
      },
      "execution_count": 11,
      "outputs": []
    },
    {
      "cell_type": "code",
      "source": [
        "# set tuples\n",
        "cat_tuple = (cat_pipe, cat_selector)\n",
        "num_tuple = (num_pipe, num_selector)"
      ],
      "metadata": {
        "id": "xSru2tT1ly16"
      },
      "execution_count": 12,
      "outputs": []
    },
    {
      "cell_type": "code",
      "source": [
        "# instantitate the transformer\n",
        "preprocessor = make_column_transformer(cat_tuple, num_tuple, remainder = 'passthrough')"
      ],
      "metadata": {
        "id": "A90NZ78Vl3Cq"
      },
      "execution_count": 13,
      "outputs": []
    },
    {
      "cell_type": "code",
      "source": [
        "preprocessor.fit(X_train, y_train)"
      ],
      "metadata": {
        "colab": {
          "base_uri": "https://localhost:8080/",
          "height": 152
        },
        "id": "YHzDEZdpl4Ok",
        "outputId": "ab144119-f034-45bf-a691-98aefcbf3613"
      },
      "execution_count": 14,
      "outputs": [
        {
          "output_type": "execute_result",
          "data": {
            "text/plain": [
              "ColumnTransformer(remainder='passthrough',\n",
              "                  transformers=[('pipeline-1',\n",
              "                                 Pipeline(steps=[('onehotencoder',\n",
              "                                                  OneHotEncoder(handle_unknown='ignore',\n",
              "                                                                sparse=False)),\n",
              "                                                 ('standardscaler',\n",
              "                                                  StandardScaler())]),\n",
              "                                 <sklearn.compose._column_transformer.make_column_selector object at 0x7fd3f5b06590>),\n",
              "                                ('pipeline-2',\n",
              "                                 Pipeline(steps=[('standardscaler',\n",
              "                                                  StandardScaler())]),\n",
              "                                 <sklearn.compose._column_transformer.make_column_selector object at 0x7fd3f5b064d0>)])"
            ],
            "text/html": [
              "<style>#sk-dfbb6d5c-6467-4485-b434-2a7fefe3ac5d {color: black;background-color: white;}#sk-dfbb6d5c-6467-4485-b434-2a7fefe3ac5d pre{padding: 0;}#sk-dfbb6d5c-6467-4485-b434-2a7fefe3ac5d div.sk-toggleable {background-color: white;}#sk-dfbb6d5c-6467-4485-b434-2a7fefe3ac5d label.sk-toggleable__label {cursor: pointer;display: block;width: 100%;margin-bottom: 0;padding: 0.3em;box-sizing: border-box;text-align: center;}#sk-dfbb6d5c-6467-4485-b434-2a7fefe3ac5d label.sk-toggleable__label-arrow:before {content: \"▸\";float: left;margin-right: 0.25em;color: #696969;}#sk-dfbb6d5c-6467-4485-b434-2a7fefe3ac5d label.sk-toggleable__label-arrow:hover:before {color: black;}#sk-dfbb6d5c-6467-4485-b434-2a7fefe3ac5d div.sk-estimator:hover label.sk-toggleable__label-arrow:before {color: black;}#sk-dfbb6d5c-6467-4485-b434-2a7fefe3ac5d div.sk-toggleable__content {max-height: 0;max-width: 0;overflow: hidden;text-align: left;background-color: #f0f8ff;}#sk-dfbb6d5c-6467-4485-b434-2a7fefe3ac5d div.sk-toggleable__content pre {margin: 0.2em;color: black;border-radius: 0.25em;background-color: #f0f8ff;}#sk-dfbb6d5c-6467-4485-b434-2a7fefe3ac5d input.sk-toggleable__control:checked~div.sk-toggleable__content {max-height: 200px;max-width: 100%;overflow: auto;}#sk-dfbb6d5c-6467-4485-b434-2a7fefe3ac5d input.sk-toggleable__control:checked~label.sk-toggleable__label-arrow:before {content: \"▾\";}#sk-dfbb6d5c-6467-4485-b434-2a7fefe3ac5d div.sk-estimator input.sk-toggleable__control:checked~label.sk-toggleable__label {background-color: #d4ebff;}#sk-dfbb6d5c-6467-4485-b434-2a7fefe3ac5d div.sk-label input.sk-toggleable__control:checked~label.sk-toggleable__label {background-color: #d4ebff;}#sk-dfbb6d5c-6467-4485-b434-2a7fefe3ac5d input.sk-hidden--visually {border: 0;clip: rect(1px 1px 1px 1px);clip: rect(1px, 1px, 1px, 1px);height: 1px;margin: -1px;overflow: hidden;padding: 0;position: absolute;width: 1px;}#sk-dfbb6d5c-6467-4485-b434-2a7fefe3ac5d div.sk-estimator {font-family: monospace;background-color: #f0f8ff;border: 1px dotted black;border-radius: 0.25em;box-sizing: border-box;margin-bottom: 0.5em;}#sk-dfbb6d5c-6467-4485-b434-2a7fefe3ac5d div.sk-estimator:hover {background-color: #d4ebff;}#sk-dfbb6d5c-6467-4485-b434-2a7fefe3ac5d div.sk-parallel-item::after {content: \"\";width: 100%;border-bottom: 1px solid gray;flex-grow: 1;}#sk-dfbb6d5c-6467-4485-b434-2a7fefe3ac5d div.sk-label:hover label.sk-toggleable__label {background-color: #d4ebff;}#sk-dfbb6d5c-6467-4485-b434-2a7fefe3ac5d div.sk-serial::before {content: \"\";position: absolute;border-left: 1px solid gray;box-sizing: border-box;top: 2em;bottom: 0;left: 50%;}#sk-dfbb6d5c-6467-4485-b434-2a7fefe3ac5d div.sk-serial {display: flex;flex-direction: column;align-items: center;background-color: white;padding-right: 0.2em;padding-left: 0.2em;}#sk-dfbb6d5c-6467-4485-b434-2a7fefe3ac5d div.sk-item {z-index: 1;}#sk-dfbb6d5c-6467-4485-b434-2a7fefe3ac5d div.sk-parallel {display: flex;align-items: stretch;justify-content: center;background-color: white;}#sk-dfbb6d5c-6467-4485-b434-2a7fefe3ac5d div.sk-parallel::before {content: \"\";position: absolute;border-left: 1px solid gray;box-sizing: border-box;top: 2em;bottom: 0;left: 50%;}#sk-dfbb6d5c-6467-4485-b434-2a7fefe3ac5d div.sk-parallel-item {display: flex;flex-direction: column;position: relative;background-color: white;}#sk-dfbb6d5c-6467-4485-b434-2a7fefe3ac5d div.sk-parallel-item:first-child::after {align-self: flex-end;width: 50%;}#sk-dfbb6d5c-6467-4485-b434-2a7fefe3ac5d div.sk-parallel-item:last-child::after {align-self: flex-start;width: 50%;}#sk-dfbb6d5c-6467-4485-b434-2a7fefe3ac5d div.sk-parallel-item:only-child::after {width: 0;}#sk-dfbb6d5c-6467-4485-b434-2a7fefe3ac5d div.sk-dashed-wrapped {border: 1px dashed gray;margin: 0 0.4em 0.5em 0.4em;box-sizing: border-box;padding-bottom: 0.4em;background-color: white;position: relative;}#sk-dfbb6d5c-6467-4485-b434-2a7fefe3ac5d div.sk-label label {font-family: monospace;font-weight: bold;background-color: white;display: inline-block;line-height: 1.2em;}#sk-dfbb6d5c-6467-4485-b434-2a7fefe3ac5d div.sk-label-container {position: relative;z-index: 2;text-align: center;}#sk-dfbb6d5c-6467-4485-b434-2a7fefe3ac5d div.sk-container {/* jupyter's `normalize.less` sets `[hidden] { display: none; }` but bootstrap.min.css set `[hidden] { display: none !important; }` so we also need the `!important` here to be able to override the default hidden behavior on the sphinx rendered scikit-learn.org. See: https://github.com/scikit-learn/scikit-learn/issues/21755 */display: inline-block !important;position: relative;}#sk-dfbb6d5c-6467-4485-b434-2a7fefe3ac5d div.sk-text-repr-fallback {display: none;}</style><div id=\"sk-dfbb6d5c-6467-4485-b434-2a7fefe3ac5d\" class=\"sk-top-container\"><div class=\"sk-text-repr-fallback\"><pre>ColumnTransformer(remainder=&#x27;passthrough&#x27;,\n",
              "                  transformers=[(&#x27;pipeline-1&#x27;,\n",
              "                                 Pipeline(steps=[(&#x27;onehotencoder&#x27;,\n",
              "                                                  OneHotEncoder(handle_unknown=&#x27;ignore&#x27;,\n",
              "                                                                sparse=False)),\n",
              "                                                 (&#x27;standardscaler&#x27;,\n",
              "                                                  StandardScaler())]),\n",
              "                                 &lt;sklearn.compose._column_transformer.make_column_selector object at 0x7fd3f5b06590&gt;),\n",
              "                                (&#x27;pipeline-2&#x27;,\n",
              "                                 Pipeline(steps=[(&#x27;standardscaler&#x27;,\n",
              "                                                  StandardScaler())]),\n",
              "                                 &lt;sklearn.compose._column_transformer.make_column_selector object at 0x7fd3f5b064d0&gt;)])</pre><b>Please rerun this cell to show the HTML repr or trust the notebook.</b></div><div class=\"sk-container\" hidden><div class=\"sk-item sk-dashed-wrapped\"><div class=\"sk-label-container\"><div class=\"sk-label sk-toggleable\"><input class=\"sk-toggleable__control sk-hidden--visually\" id=\"da5acc92-103b-435c-aee7-7661fa5ec399\" type=\"checkbox\" ><label for=\"da5acc92-103b-435c-aee7-7661fa5ec399\" class=\"sk-toggleable__label sk-toggleable__label-arrow\">ColumnTransformer</label><div class=\"sk-toggleable__content\"><pre>ColumnTransformer(remainder=&#x27;passthrough&#x27;,\n",
              "                  transformers=[(&#x27;pipeline-1&#x27;,\n",
              "                                 Pipeline(steps=[(&#x27;onehotencoder&#x27;,\n",
              "                                                  OneHotEncoder(handle_unknown=&#x27;ignore&#x27;,\n",
              "                                                                sparse=False)),\n",
              "                                                 (&#x27;standardscaler&#x27;,\n",
              "                                                  StandardScaler())]),\n",
              "                                 &lt;sklearn.compose._column_transformer.make_column_selector object at 0x7fd3f5b06590&gt;),\n",
              "                                (&#x27;pipeline-2&#x27;,\n",
              "                                 Pipeline(steps=[(&#x27;standardscaler&#x27;,\n",
              "                                                  StandardScaler())]),\n",
              "                                 &lt;sklearn.compose._column_transformer.make_column_selector object at 0x7fd3f5b064d0&gt;)])</pre></div></div></div><div class=\"sk-parallel\"><div class=\"sk-parallel-item\"><div class=\"sk-item\"><div class=\"sk-label-container\"><div class=\"sk-label sk-toggleable\"><input class=\"sk-toggleable__control sk-hidden--visually\" id=\"d4a96926-5218-46b0-8974-0e5431479674\" type=\"checkbox\" ><label for=\"d4a96926-5218-46b0-8974-0e5431479674\" class=\"sk-toggleable__label sk-toggleable__label-arrow\">pipeline-1</label><div class=\"sk-toggleable__content\"><pre>&lt;sklearn.compose._column_transformer.make_column_selector object at 0x7fd3f5b06590&gt;</pre></div></div></div><div class=\"sk-serial\"><div class=\"sk-item\"><div class=\"sk-serial\"><div class=\"sk-item\"><div class=\"sk-estimator sk-toggleable\"><input class=\"sk-toggleable__control sk-hidden--visually\" id=\"424b5d86-f19a-427e-b09d-c38a46d87298\" type=\"checkbox\" ><label for=\"424b5d86-f19a-427e-b09d-c38a46d87298\" class=\"sk-toggleable__label sk-toggleable__label-arrow\">OneHotEncoder</label><div class=\"sk-toggleable__content\"><pre>OneHotEncoder(handle_unknown=&#x27;ignore&#x27;, sparse=False)</pre></div></div></div><div class=\"sk-item\"><div class=\"sk-estimator sk-toggleable\"><input class=\"sk-toggleable__control sk-hidden--visually\" id=\"b820e445-2ad7-4b57-8d00-74e07e7f52d5\" type=\"checkbox\" ><label for=\"b820e445-2ad7-4b57-8d00-74e07e7f52d5\" class=\"sk-toggleable__label sk-toggleable__label-arrow\">StandardScaler</label><div class=\"sk-toggleable__content\"><pre>StandardScaler()</pre></div></div></div></div></div></div></div></div><div class=\"sk-parallel-item\"><div class=\"sk-item\"><div class=\"sk-label-container\"><div class=\"sk-label sk-toggleable\"><input class=\"sk-toggleable__control sk-hidden--visually\" id=\"4100e548-35d2-4410-a1e8-62777c978397\" type=\"checkbox\" ><label for=\"4100e548-35d2-4410-a1e8-62777c978397\" class=\"sk-toggleable__label sk-toggleable__label-arrow\">pipeline-2</label><div class=\"sk-toggleable__content\"><pre>&lt;sklearn.compose._column_transformer.make_column_selector object at 0x7fd3f5b064d0&gt;</pre></div></div></div><div class=\"sk-serial\"><div class=\"sk-item\"><div class=\"sk-serial\"><div class=\"sk-item\"><div class=\"sk-estimator sk-toggleable\"><input class=\"sk-toggleable__control sk-hidden--visually\" id=\"ab9595f8-1971-4486-bd38-20ea06cb8ba8\" type=\"checkbox\" ><label for=\"ab9595f8-1971-4486-bd38-20ea06cb8ba8\" class=\"sk-toggleable__label sk-toggleable__label-arrow\">StandardScaler</label><div class=\"sk-toggleable__content\"><pre>StandardScaler()</pre></div></div></div></div></div></div></div></div><div class=\"sk-parallel-item\"><div class=\"sk-item\"><div class=\"sk-label-container\"><div class=\"sk-label sk-toggleable\"><input class=\"sk-toggleable__control sk-hidden--visually\" id=\"b18c3825-6e36-46d4-ba50-a0bd21d7bda3\" type=\"checkbox\" ><label for=\"b18c3825-6e36-46d4-ba50-a0bd21d7bda3\" class=\"sk-toggleable__label sk-toggleable__label-arrow\">remainder</label><div class=\"sk-toggleable__content\"><pre>[]</pre></div></div></div><div class=\"sk-serial\"><div class=\"sk-item\"><div class=\"sk-estimator sk-toggleable\"><input class=\"sk-toggleable__control sk-hidden--visually\" id=\"84850845-b5fd-4a01-bc8e-9a43f91dd968\" type=\"checkbox\" ><label for=\"84850845-b5fd-4a01-bc8e-9a43f91dd968\" class=\"sk-toggleable__label sk-toggleable__label-arrow\">passthrough</label><div class=\"sk-toggleable__content\"><pre>passthrough</pre></div></div></div></div></div></div></div></div></div></div>"
            ]
          },
          "metadata": {},
          "execution_count": 14
        }
      ]
    },
    {
      "cell_type": "code",
      "source": [
        "# transform the processed data\n",
        "X_train_processed = preprocessor.transform(X_train)\n",
        "X_test_processed = preprocessor.transform(X_test)"
      ],
      "metadata": {
        "id": "BmAgqaGvl-ae"
      },
      "execution_count": 15,
      "outputs": []
    },
    {
      "cell_type": "markdown",
      "source": [
        "# Build the model"
      ],
      "metadata": {
        "id": "FJvHif3D2oy-"
      }
    },
    {
      "cell_type": "code",
      "source": [
        "X_train_processed.shape"
      ],
      "metadata": {
        "colab": {
          "base_uri": "https://localhost:8080/"
        },
        "id": "rVuMhzbb3w-r",
        "outputId": "36196620-9d1c-4413-cc7b-e6bcb0045175"
      },
      "execution_count": 16,
      "outputs": [
        {
          "output_type": "execute_result",
          "data": {
            "text/plain": [
              "(688, 19)"
            ]
          },
          "metadata": {},
          "execution_count": 16
        }
      ]
    },
    {
      "cell_type": "code",
      "source": [
        "# define NN structure\n",
        "input_shape = X_train_processed.shape[1] # find the shape of the dataset and use [1] to select all and make it updatable\n",
        "input_shape"
      ],
      "metadata": {
        "colab": {
          "base_uri": "https://localhost:8080/"
        },
        "id": "Ijp9Xb412vw1",
        "outputId": "ba98cc86-ae85-4f01-93ff-7f730f040330"
      },
      "execution_count": 17,
      "outputs": [
        {
          "output_type": "execute_result",
          "data": {
            "text/plain": [
              "19"
            ]
          },
          "metadata": {},
          "execution_count": 17
        }
      ]
    },
    {
      "cell_type": "code",
      "source": [
        "# define model type\n",
        "model = Sequential()"
      ],
      "metadata": {
        "id": "8LDGuFC84L9-"
      },
      "execution_count": 18,
      "outputs": []
    },
    {
      "cell_type": "code",
      "source": [
        "# add first layer\n",
        "model.add(Dense(19, input_dim = input_shape, activation = 'relu'))\n",
        "\n",
        "# add dropout\n",
        "model.add(Dropout(.2))\n",
        "\n",
        "# add second layer\n",
        "model.add(Dense(10, input_dim = input_shape, activation = 'relu'))\n",
        "\n",
        "# add dropout\n",
        "model.add(Dropout(.2))\n",
        "\n",
        "# add output layer\n",
        "model.add(Dense(1, activation = 'sigmoid'))"
      ],
      "metadata": {
        "id": "DpRHPe7O4ROK"
      },
      "execution_count": 19,
      "outputs": []
    },
    {
      "cell_type": "code",
      "source": [
        "# compile the model\n",
        "model.compile(loss = 'bce', optimizer = 'adam')"
      ],
      "metadata": {
        "id": "imXbsTRt44Tx"
      },
      "execution_count": 20,
      "outputs": []
    },
    {
      "cell_type": "code",
      "source": [
        "# fit the model\n",
        "history = model.fit(X_train_processed, y_train,\n",
        "                    validation_data = (X_test_processed, y_test),\n",
        "                    epochs = 100)"
      ],
      "metadata": {
        "colab": {
          "base_uri": "https://localhost:8080/"
        },
        "id": "bQdsKx0l5DGw",
        "outputId": "776377f7-040f-4ce0-ddda-2dbb0ca0b920"
      },
      "execution_count": 21,
      "outputs": [
        {
          "output_type": "stream",
          "name": "stdout",
          "text": [
            "Epoch 1/100\n",
            "22/22 [==============================] - 1s 19ms/step - loss: 0.7856 - val_loss: 0.6740\n",
            "Epoch 2/100\n",
            "22/22 [==============================] - 0s 5ms/step - loss: 0.6732 - val_loss: 0.5968\n",
            "Epoch 3/100\n",
            "22/22 [==============================] - 0s 5ms/step - loss: 0.5857 - val_loss: 0.5530\n",
            "Epoch 4/100\n",
            "22/22 [==============================] - 0s 7ms/step - loss: 0.5379 - val_loss: 0.5163\n",
            "Epoch 5/100\n",
            "22/22 [==============================] - 0s 8ms/step - loss: 0.5176 - val_loss: 0.4874\n",
            "Epoch 6/100\n",
            "22/22 [==============================] - 0s 6ms/step - loss: 0.4914 - val_loss: 0.4605\n",
            "Epoch 7/100\n",
            "22/22 [==============================] - 0s 9ms/step - loss: 0.4676 - val_loss: 0.4377\n",
            "Epoch 8/100\n",
            "22/22 [==============================] - 0s 6ms/step - loss: 0.4540 - val_loss: 0.4169\n",
            "Epoch 9/100\n",
            "22/22 [==============================] - 0s 7ms/step - loss: 0.4515 - val_loss: 0.3989\n",
            "Epoch 10/100\n",
            "22/22 [==============================] - 0s 5ms/step - loss: 0.4210 - val_loss: 0.3849\n",
            "Epoch 11/100\n",
            "22/22 [==============================] - 0s 8ms/step - loss: 0.4218 - val_loss: 0.3748\n",
            "Epoch 12/100\n",
            "22/22 [==============================] - 0s 6ms/step - loss: 0.4148 - val_loss: 0.3660\n",
            "Epoch 13/100\n",
            "22/22 [==============================] - 0s 7ms/step - loss: 0.3991 - val_loss: 0.3579\n",
            "Epoch 14/100\n",
            "22/22 [==============================] - 0s 8ms/step - loss: 0.3813 - val_loss: 0.3503\n",
            "Epoch 15/100\n",
            "22/22 [==============================] - 0s 9ms/step - loss: 0.3942 - val_loss: 0.3455\n",
            "Epoch 16/100\n",
            "22/22 [==============================] - 0s 6ms/step - loss: 0.3764 - val_loss: 0.3414\n",
            "Epoch 17/100\n",
            "22/22 [==============================] - 0s 8ms/step - loss: 0.3625 - val_loss: 0.3341\n",
            "Epoch 18/100\n",
            "22/22 [==============================] - 0s 6ms/step - loss: 0.3813 - val_loss: 0.3288\n",
            "Epoch 19/100\n",
            "22/22 [==============================] - 0s 6ms/step - loss: 0.3819 - val_loss: 0.3319\n",
            "Epoch 20/100\n",
            "22/22 [==============================] - 0s 11ms/step - loss: 0.3740 - val_loss: 0.3267\n",
            "Epoch 21/100\n",
            "22/22 [==============================] - 0s 6ms/step - loss: 0.3545 - val_loss: 0.3242\n",
            "Epoch 22/100\n",
            "22/22 [==============================] - 0s 5ms/step - loss: 0.3503 - val_loss: 0.3213\n",
            "Epoch 23/100\n",
            "22/22 [==============================] - 0s 7ms/step - loss: 0.3577 - val_loss: 0.3180\n",
            "Epoch 24/100\n",
            "22/22 [==============================] - 0s 7ms/step - loss: 0.3504 - val_loss: 0.3157\n",
            "Epoch 25/100\n",
            "22/22 [==============================] - 0s 5ms/step - loss: 0.3558 - val_loss: 0.3160\n",
            "Epoch 26/100\n",
            "22/22 [==============================] - 0s 6ms/step - loss: 0.3473 - val_loss: 0.3150\n",
            "Epoch 27/100\n",
            "22/22 [==============================] - 0s 5ms/step - loss: 0.3561 - val_loss: 0.3135\n",
            "Epoch 28/100\n",
            "22/22 [==============================] - 0s 6ms/step - loss: 0.3527 - val_loss: 0.3111\n",
            "Epoch 29/100\n",
            "22/22 [==============================] - 0s 9ms/step - loss: 0.3678 - val_loss: 0.3126\n",
            "Epoch 30/100\n",
            "22/22 [==============================] - 0s 5ms/step - loss: 0.3517 - val_loss: 0.3120\n",
            "Epoch 31/100\n",
            "22/22 [==============================] - 0s 8ms/step - loss: 0.3485 - val_loss: 0.3095\n",
            "Epoch 32/100\n",
            "22/22 [==============================] - 0s 7ms/step - loss: 0.3437 - val_loss: 0.3108\n",
            "Epoch 33/100\n",
            "22/22 [==============================] - 0s 6ms/step - loss: 0.3453 - val_loss: 0.3083\n",
            "Epoch 34/100\n",
            "22/22 [==============================] - 0s 5ms/step - loss: 0.3492 - val_loss: 0.3089\n",
            "Epoch 35/100\n",
            "22/22 [==============================] - 0s 7ms/step - loss: 0.3498 - val_loss: 0.3096\n",
            "Epoch 36/100\n",
            "22/22 [==============================] - 0s 7ms/step - loss: 0.3281 - val_loss: 0.3119\n",
            "Epoch 37/100\n",
            "22/22 [==============================] - 0s 5ms/step - loss: 0.3293 - val_loss: 0.3119\n",
            "Epoch 38/100\n",
            "22/22 [==============================] - 0s 7ms/step - loss: 0.3330 - val_loss: 0.3107\n",
            "Epoch 39/100\n",
            "22/22 [==============================] - 0s 9ms/step - loss: 0.3178 - val_loss: 0.3104\n",
            "Epoch 40/100\n",
            "22/22 [==============================] - 0s 8ms/step - loss: 0.3397 - val_loss: 0.3102\n",
            "Epoch 41/100\n",
            "22/22 [==============================] - 0s 7ms/step - loss: 0.3324 - val_loss: 0.3078\n",
            "Epoch 42/100\n",
            "22/22 [==============================] - 0s 9ms/step - loss: 0.3456 - val_loss: 0.3089\n",
            "Epoch 43/100\n",
            "22/22 [==============================] - 0s 5ms/step - loss: 0.3322 - val_loss: 0.3072\n",
            "Epoch 44/100\n",
            "22/22 [==============================] - 0s 7ms/step - loss: 0.3182 - val_loss: 0.3082\n",
            "Epoch 45/100\n",
            "22/22 [==============================] - 0s 7ms/step - loss: 0.3383 - val_loss: 0.3089\n",
            "Epoch 46/100\n",
            "22/22 [==============================] - 0s 5ms/step - loss: 0.3203 - val_loss: 0.3047\n",
            "Epoch 47/100\n",
            "22/22 [==============================] - 0s 6ms/step - loss: 0.3322 - val_loss: 0.3067\n",
            "Epoch 48/100\n",
            "22/22 [==============================] - 0s 7ms/step - loss: 0.3397 - val_loss: 0.3037\n",
            "Epoch 49/100\n",
            "22/22 [==============================] - 0s 6ms/step - loss: 0.3110 - val_loss: 0.3046\n",
            "Epoch 50/100\n",
            "22/22 [==============================] - 0s 6ms/step - loss: 0.3073 - val_loss: 0.3066\n",
            "Epoch 51/100\n",
            "22/22 [==============================] - 0s 9ms/step - loss: 0.3275 - val_loss: 0.3033\n",
            "Epoch 52/100\n",
            "22/22 [==============================] - 0s 6ms/step - loss: 0.3395 - val_loss: 0.3020\n",
            "Epoch 53/100\n",
            "22/22 [==============================] - 0s 5ms/step - loss: 0.3433 - val_loss: 0.3022\n",
            "Epoch 54/100\n",
            "22/22 [==============================] - 0s 7ms/step - loss: 0.3231 - val_loss: 0.2991\n",
            "Epoch 55/100\n",
            "22/22 [==============================] - 0s 9ms/step - loss: 0.3363 - val_loss: 0.2982\n",
            "Epoch 56/100\n",
            "22/22 [==============================] - 0s 6ms/step - loss: 0.3231 - val_loss: 0.2986\n",
            "Epoch 57/100\n",
            "22/22 [==============================] - 0s 7ms/step - loss: 0.3115 - val_loss: 0.2986\n",
            "Epoch 58/100\n",
            "22/22 [==============================] - 0s 7ms/step - loss: 0.3192 - val_loss: 0.3001\n",
            "Epoch 59/100\n",
            "22/22 [==============================] - 0s 8ms/step - loss: 0.3140 - val_loss: 0.3013\n",
            "Epoch 60/100\n",
            "22/22 [==============================] - 0s 6ms/step - loss: 0.3151 - val_loss: 0.2998\n",
            "Epoch 61/100\n",
            "22/22 [==============================] - 0s 8ms/step - loss: 0.3148 - val_loss: 0.2964\n",
            "Epoch 62/100\n",
            "22/22 [==============================] - 0s 9ms/step - loss: 0.3087 - val_loss: 0.2966\n",
            "Epoch 63/100\n",
            "22/22 [==============================] - 0s 7ms/step - loss: 0.3288 - val_loss: 0.2961\n",
            "Epoch 64/100\n",
            "22/22 [==============================] - 0s 11ms/step - loss: 0.3157 - val_loss: 0.2986\n",
            "Epoch 65/100\n",
            "22/22 [==============================] - 0s 9ms/step - loss: 0.3031 - val_loss: 0.2953\n",
            "Epoch 66/100\n",
            "22/22 [==============================] - 0s 5ms/step - loss: 0.3073 - val_loss: 0.2951\n",
            "Epoch 67/100\n",
            "22/22 [==============================] - 0s 6ms/step - loss: 0.3163 - val_loss: 0.3005\n",
            "Epoch 68/100\n",
            "22/22 [==============================] - 0s 6ms/step - loss: 0.3167 - val_loss: 0.2961\n",
            "Epoch 69/100\n",
            "22/22 [==============================] - 0s 8ms/step - loss: 0.3049 - val_loss: 0.2950\n",
            "Epoch 70/100\n",
            "22/22 [==============================] - 0s 9ms/step - loss: 0.3047 - val_loss: 0.2964\n",
            "Epoch 71/100\n",
            "22/22 [==============================] - 0s 14ms/step - loss: 0.2974 - val_loss: 0.2976\n",
            "Epoch 72/100\n",
            "22/22 [==============================] - 0s 7ms/step - loss: 0.3116 - val_loss: 0.3004\n",
            "Epoch 73/100\n",
            "22/22 [==============================] - 0s 8ms/step - loss: 0.3081 - val_loss: 0.2999\n",
            "Epoch 74/100\n",
            "22/22 [==============================] - 0s 7ms/step - loss: 0.3234 - val_loss: 0.2988\n",
            "Epoch 75/100\n",
            "22/22 [==============================] - 0s 8ms/step - loss: 0.3064 - val_loss: 0.2969\n",
            "Epoch 76/100\n",
            "22/22 [==============================] - 0s 10ms/step - loss: 0.3198 - val_loss: 0.2962\n",
            "Epoch 77/100\n",
            "22/22 [==============================] - 0s 15ms/step - loss: 0.3007 - val_loss: 0.2920\n",
            "Epoch 78/100\n",
            "22/22 [==============================] - 0s 8ms/step - loss: 0.3098 - val_loss: 0.2884\n",
            "Epoch 79/100\n",
            "22/22 [==============================] - 0s 5ms/step - loss: 0.3102 - val_loss: 0.2892\n",
            "Epoch 80/100\n",
            "22/22 [==============================] - 0s 5ms/step - loss: 0.3005 - val_loss: 0.2916\n",
            "Epoch 81/100\n",
            "22/22 [==============================] - 0s 9ms/step - loss: 0.3064 - val_loss: 0.2891\n",
            "Epoch 82/100\n",
            "22/22 [==============================] - 0s 7ms/step - loss: 0.3065 - val_loss: 0.2935\n",
            "Epoch 83/100\n",
            "22/22 [==============================] - 0s 7ms/step - loss: 0.3120 - val_loss: 0.2933\n",
            "Epoch 84/100\n",
            "22/22 [==============================] - 0s 9ms/step - loss: 0.3156 - val_loss: 0.2920\n",
            "Epoch 85/100\n",
            "22/22 [==============================] - 0s 7ms/step - loss: 0.3015 - val_loss: 0.2915\n",
            "Epoch 86/100\n",
            "22/22 [==============================] - 0s 6ms/step - loss: 0.3188 - val_loss: 0.2940\n",
            "Epoch 87/100\n",
            "22/22 [==============================] - 0s 11ms/step - loss: 0.3059 - val_loss: 0.2938\n",
            "Epoch 88/100\n",
            "22/22 [==============================] - 0s 8ms/step - loss: 0.3154 - val_loss: 0.2941\n",
            "Epoch 89/100\n",
            "22/22 [==============================] - 0s 5ms/step - loss: 0.2930 - val_loss: 0.2947\n",
            "Epoch 90/100\n",
            "22/22 [==============================] - 0s 8ms/step - loss: 0.2936 - val_loss: 0.2964\n",
            "Epoch 91/100\n",
            "22/22 [==============================] - 0s 15ms/step - loss: 0.2958 - val_loss: 0.2976\n",
            "Epoch 92/100\n",
            "22/22 [==============================] - 0s 14ms/step - loss: 0.3103 - val_loss: 0.2940\n",
            "Epoch 93/100\n",
            "22/22 [==============================] - 0s 8ms/step - loss: 0.2939 - val_loss: 0.2955\n",
            "Epoch 94/100\n",
            "22/22 [==============================] - 0s 11ms/step - loss: 0.2978 - val_loss: 0.2946\n",
            "Epoch 95/100\n",
            "22/22 [==============================] - 0s 13ms/step - loss: 0.2970 - val_loss: 0.2947\n",
            "Epoch 96/100\n",
            "22/22 [==============================] - 0s 13ms/step - loss: 0.3049 - val_loss: 0.2955\n",
            "Epoch 97/100\n",
            "22/22 [==============================] - 0s 9ms/step - loss: 0.3066 - val_loss: 0.2933\n",
            "Epoch 98/100\n",
            "22/22 [==============================] - 0s 10ms/step - loss: 0.2888 - val_loss: 0.2936\n",
            "Epoch 99/100\n",
            "22/22 [==============================] - 0s 8ms/step - loss: 0.3021 - val_loss: 0.2924\n",
            "Epoch 100/100\n",
            "22/22 [==============================] - 0s 11ms/step - loss: 0.3029 - val_loss: 0.2943\n"
          ]
        }
      ]
    },
    {
      "cell_type": "code",
      "source": [
        "# Visualize the loss\n",
        "plt.plot(history.history['loss'], label = 'Train loss')\n",
        "plt.plot(history.history['val_loss'], label = 'Test Loss')\n",
        "plt.legend();"
      ],
      "metadata": {
        "colab": {
          "base_uri": "https://localhost:8080/",
          "height": 265
        },
        "id": "A-K2Q3m5m5cx",
        "outputId": "2d2de9b3-2d34-46b8-8929-1fd4c81f3680"
      },
      "execution_count": 22,
      "outputs": [
        {
          "output_type": "display_data",
          "data": {
            "text/plain": [
              "<Figure size 432x288 with 1 Axes>"
            ],
            "image/png": "[encoded data removed]"
          },
          "metadata": {
            "needs_background": "light"
          }
        }
      ]
    }
  ]
}