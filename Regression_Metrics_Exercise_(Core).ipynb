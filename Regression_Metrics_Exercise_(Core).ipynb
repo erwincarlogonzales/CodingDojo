{
  "nbformat": 4,
  "nbformat_minor": 0,
  "metadata": {
    "colab": {
      "provenance": [],
      "collapsed_sections": [],
      "authorship_tag": "ABX9TyNVtXEDoavMUQ3r4gLPkBGL",
      "include_colab_link": true
    },
    "kernelspec": {
      "name": "python3",
      "display_name": "Python 3"
    },
    "language_info": {
      "name": "python"
    }
  },
  "cells": [
    {
      "cell_type": "markdown",
      "metadata": {
        "id": "view-in-github",
        "colab_type": "text"
      },
      "source": [
        "<a href=\"https://colab.research.google.com/github/GECarlo/CodingDojo/blob/main/Regression_Metrics_Exercise_(Core).ipynb\" target=\"_parent\"><img src=\"https://colab.research.google.com/assets/colab-badge.svg\" alt=\"Open In Colab\"/></a>"
      ]
    },
    {
      "cell_type": "code",
      "execution_count": 1,
      "metadata": {
        "colab": {
          "base_uri": "https://localhost:8080/"
        },
        "id": "2p8b24deOOiJ",
        "outputId": "9f4cf072-bbdb-42a3-f356-8b695e893e5e"
      },
      "outputs": [
        {
          "output_type": "stream",
          "name": "stdout",
          "text": [
            "Drive already mounted at /content/drive; to attempt to forcibly remount, call drive.mount(\"/content/drive\", force_remount=True).\n"
          ]
        }
      ],
      "source": [
        "# mount drive\n",
        "from google.colab import drive\n",
        "drive.mount ('/content/drive')"
      ]
    },
    {
      "cell_type": "code",
      "source": [
        "# import libraries\n",
        "import pandas as pd\n",
        "import numpy as np\n",
        "%matplotlib inline\n",
        "import matplotlib.pyplot as plt\n",
        "import seaborn as sns\n",
        "from sklearn.model_selection import train_test_split\n",
        "from sklearn.compose import make_column_selector, make_column_transformer\n",
        "from sklearn.preprocessing import OneHotEncoder, StandardScaler\n",
        "from sklearn.pipeline import make_pipeline\n",
        "from sklearn.linear_model import LinearRegression\n",
        "from sklearn.metrics import r2_score\n",
        "from sklearn.metrics import mean_absolute_error\n",
        "from sklearn.metrics import mean_squared_error"
      ],
      "metadata": {
        "id": "gt5c1z6pQAsR"
      },
      "execution_count": 21,
      "outputs": []
    },
    {
      "cell_type": "code",
      "source": [
        "# import file\n",
        "filename = '/content/drive/MyDrive/Colab Notebooks/Boston_Housing_from_Sklearn.csv'\n",
        "df = pd.read_csv(filename)\n",
        "df.head()"
      ],
      "metadata": {
        "colab": {
          "base_uri": "https://localhost:8080/",
          "height": 206
        },
        "id": "8yLuJOdsQM0V",
        "outputId": "78081c48-cec8-4a34-aadd-6dc7b5111bdb"
      },
      "execution_count": 3,
      "outputs": [
        {
          "output_type": "execute_result",
          "data": {
            "text/plain": [
              "      CRIM    NOX     RM   AGE  PTRATIO  LSTAT  PRICE\n",
              "0  0.00632  0.538  6.575  65.2     15.3   4.98   24.0\n",
              "1  0.02731  0.469  6.421  78.9     17.8   9.14   21.6\n",
              "2  0.02729  0.469  7.185  61.1     17.8   4.03   34.7\n",
              "3  0.03237  0.458  6.998  45.8     18.7   2.94   33.4\n",
              "4  0.06905  0.458  7.147  54.2     18.7   5.33   36.2"
            ],
            "text/html": [
              "\n",
              "  <div id=\"df-4c0a8f3d-3178-455a-b36e-ef15c280398f\">\n",
              "    <div class=\"colab-df-container\">\n",
              "      <div>\n",
              "<style scoped>\n",
              "    .dataframe tbody tr th:only-of-type {\n",
              "        vertical-align: middle;\n",
              "    }\n",
              "\n",
              "    .dataframe tbody tr th {\n",
              "        vertical-align: top;\n",
              "    }\n",
              "\n",
              "    .dataframe thead th {\n",
              "        text-align: right;\n",
              "    }\n",
              "</style>\n",
              "<table border=\"1\" class=\"dataframe\">\n",
              "  <thead>\n",
              "    <tr style=\"text-align: right;\">\n",
              "      <th></th>\n",
              "      <th>CRIM</th>\n",
              "      <th>NOX</th>\n",
              "      <th>RM</th>\n",
              "      <th>AGE</th>\n",
              "      <th>PTRATIO</th>\n",
              "      <th>LSTAT</th>\n",
              "      <th>PRICE</th>\n",
              "    </tr>\n",
              "  </thead>\n",
              "  <tbody>\n",
              "    <tr>\n",
              "      <th>0</th>\n",
              "      <td>0.00632</td>\n",
              "      <td>0.538</td>\n",
              "      <td>6.575</td>\n",
              "      <td>65.2</td>\n",
              "      <td>15.3</td>\n",
              "      <td>4.98</td>\n",
              "      <td>24.0</td>\n",
              "    </tr>\n",
              "    <tr>\n",
              "      <th>1</th>\n",
              "      <td>0.02731</td>\n",
              "      <td>0.469</td>\n",
              "      <td>6.421</td>\n",
              "      <td>78.9</td>\n",
              "      <td>17.8</td>\n",
              "      <td>9.14</td>\n",
              "      <td>21.6</td>\n",
              "    </tr>\n",
              "    <tr>\n",
              "      <th>2</th>\n",
              "      <td>0.02729</td>\n",
              "      <td>0.469</td>\n",
              "      <td>7.185</td>\n",
              "      <td>61.1</td>\n",
              "      <td>17.8</td>\n",
              "      <td>4.03</td>\n",
              "      <td>34.7</td>\n",
              "    </tr>\n",
              "    <tr>\n",
              "      <th>3</th>\n",
              "      <td>0.03237</td>\n",
              "      <td>0.458</td>\n",
              "      <td>6.998</td>\n",
              "      <td>45.8</td>\n",
              "      <td>18.7</td>\n",
              "      <td>2.94</td>\n",
              "      <td>33.4</td>\n",
              "    </tr>\n",
              "    <tr>\n",
              "      <th>4</th>\n",
              "      <td>0.06905</td>\n",
              "      <td>0.458</td>\n",
              "      <td>7.147</td>\n",
              "      <td>54.2</td>\n",
              "      <td>18.7</td>\n",
              "      <td>5.33</td>\n",
              "      <td>36.2</td>\n",
              "    </tr>\n",
              "  </tbody>\n",
              "</table>\n",
              "</div>\n",
              "      <button class=\"colab-df-convert\" onclick=\"convertToInteractive('df-4c0a8f3d-3178-455a-b36e-ef15c280398f')\"\n",
              "              title=\"Convert this dataframe to an interactive table.\"\n",
              "              style=\"display:none;\">\n",
              "        \n",
              "  <svg xmlns=\"http://www.w3.org/2000/svg\" height=\"24px\"viewBox=\"0 0 24 24\"\n",
              "       width=\"24px\">\n",
              "    <path d=\"M0 0h24v24H0V0z\" fill=\"none\"/>\n",
              "    <path d=\"M18.56 5.44l.94 2.06.94-2.06 2.06-.94-2.06-.94-.94-2.06-.94 2.06-2.06.94zm-11 1L8.5 8.5l.94-2.06 2.06-.94-2.06-.94L8.5 2.5l-.94 2.06-2.06.94zm10 10l.94 2.06.94-2.06 2.06-.94-2.06-.94-.94-2.06-.94 2.06-2.06.94z\"/><path d=\"M17.41 7.96l-1.37-1.37c-.4-.4-.92-.59-1.43-.59-.52 0-1.04.2-1.43.59L10.3 9.45l-7.72 7.72c-.78.78-.78 2.05 0 2.83L4 21.41c.39.39.9.59 1.41.59.51 0 1.02-.2 1.41-.59l7.78-7.78 2.81-2.81c.8-.78.8-2.07 0-2.86zM5.41 20L4 18.59l7.72-7.72 1.47 1.35L5.41 20z\"/>\n",
              "  </svg>\n",
              "      </button>\n",
              "      \n",
              "  <style>\n",
              "    .colab-df-container {\n",
              "      display:flex;\n",
              "      flex-wrap:wrap;\n",
              "      gap: 12px;\n",
              "    }\n",
              "\n",
              "    .colab-df-convert {\n",
              "      background-color: #E8F0FE;\n",
              "      border: none;\n",
              "      border-radius: 50%;\n",
              "      cursor: pointer;\n",
              "      display: none;\n",
              "      fill: #1967D2;\n",
              "      height: 32px;\n",
              "      padding: 0 0 0 0;\n",
              "      width: 32px;\n",
              "    }\n",
              "\n",
              "    .colab-df-convert:hover {\n",
              "      background-color: #E2EBFA;\n",
              "      box-shadow: 0px 1px 2px rgba(60, 64, 67, 0.3), 0px 1px 3px 1px rgba(60, 64, 67, 0.15);\n",
              "      fill: #174EA6;\n",
              "    }\n",
              "\n",
              "    [theme=dark] .colab-df-convert {\n",
              "      background-color: #3B4455;\n",
              "      fill: #D2E3FC;\n",
              "    }\n",
              "\n",
              "    [theme=dark] .colab-df-convert:hover {\n",
              "      background-color: #434B5C;\n",
              "      box-shadow: 0px 1px 3px 1px rgba(0, 0, 0, 0.15);\n",
              "      filter: drop-shadow(0px 1px 2px rgba(0, 0, 0, 0.3));\n",
              "      fill: #FFFFFF;\n",
              "    }\n",
              "  </style>\n",
              "\n",
              "      <script>\n",
              "        const buttonEl =\n",
              "          document.querySelector('#df-4c0a8f3d-3178-455a-b36e-ef15c280398f button.colab-df-convert');\n",
              "        buttonEl.style.display =\n",
              "          google.colab.kernel.accessAllowed ? 'block' : 'none';\n",
              "\n",
              "        async function convertToInteractive(key) {\n",
              "          const element = document.querySelector('#df-4c0a8f3d-3178-455a-b36e-ef15c280398f');\n",
              "          const dataTable =\n",
              "            await google.colab.kernel.invokeFunction('convertToInteractive',\n",
              "                                                     [key], {});\n",
              "          if (!dataTable) return;\n",
              "\n",
              "          const docLinkHtml = 'Like what you see? Visit the ' +\n",
              "            '<a target=\"_blank\" href=https://colab.research.google.com/notebooks/data_table.ipynb>data table notebook</a>'\n",
              "            + ' to learn more about interactive tables.';\n",
              "          element.innerHTML = '';\n",
              "          dataTable['output_type'] = 'display_data';\n",
              "          await google.colab.output.renderOutput(dataTable, element);\n",
              "          const docLink = document.createElement('div');\n",
              "          docLink.innerHTML = docLinkHtml;\n",
              "          element.appendChild(docLink);\n",
              "        }\n",
              "      </script>\n",
              "    </div>\n",
              "  </div>\n",
              "  "
            ]
          },
          "metadata": {},
          "execution_count": 3
        }
      ]
    },
    {
      "cell_type": "markdown",
      "source": [
        "**data dictionary for this data set:**\n",
        "\n",
        "          CRIM     per capita crime rate by town\n",
        "\n",
        "          NOX      nitric oxides concentration (parts per 10 million)\n",
        "\n",
        "          RM       average number of rooms per dwelling\n",
        "\n",
        "          AGE      proportion of owner-occupied units built prior to 1940\n",
        "\n",
        "          PTRATIO  pupil-teacher ratio by town\n",
        "\n",
        "          LSTAT    % lower economic status of the population\n",
        "\n",
        "          PRICE   Median value of owner-occupied homes in $1000's"
      ],
      "metadata": {
        "id": "DGcvDn86QaAW"
      }
    },
    {
      "cell_type": "markdown",
      "source": [
        "predict the PRICE based on the available features using a linear regression model.\n",
        "\n",
        "1) Make a heatmap of the correlations.  Identify any features that have a correlation coefficient of magnitude 0.5 (could be + or -) or greater with price.   We will limit our analysis to these three features.\n",
        "\n",
        "2) Select columns for your feature matrix (X) and select PRICE for your target vector (y).\n",
        "\n",
        "3) Split your data into train and test groups. Please use random number 42 for consistency!\n",
        "\n",
        "4) Instantiate your model and fit it on the training set.\n",
        "\n",
        "5) Evaluate your model performance using R^2 on the training set and on the test set.  Is there a difference between model performance on the training data vs the test data?\n",
        "\n",
        "6) Evaluate your model using mean absolute error (MAE).\n",
        "\n",
        "7) Evaluate your model using mean squared error (MSE).  \n",
        "\n",
        "8) Evaluate your model performance using RMSE on the training set and on the test set. This metric is useful because the units will be in the same units as your target vector. In this case 1,000 of dollars.  "
      ],
      "metadata": {
        "id": "p7XkXQ_7QhgO"
      }
    },
    {
      "cell_type": "code",
      "source": [
        "# Make a heatmap of the correlations. \n",
        "# Identify any features that have a correlation coefficient of magnitude 0.5 (could be + or -) or greater with price. \n",
        "# We will limit our analysis to these three features.\n",
        "corr = df.corr()\n",
        "plt.figure(figsize = (20, 10))\n",
        "plt.title('Boston Housing Prices 1978', fontsize = 20)\n",
        "sns.heatmap(corr, cmap = 'Blues', annot = True);\n",
        "\n",
        "# there is a strong negative correlation between LSTAT and Price -0.74\n",
        "# there is a strong correlation between RM and Price 0.70\n",
        "# there is a moderate negative correlation between PTRATIO and Price -0.51"
      ],
      "metadata": {
        "colab": {
          "base_uri": "https://localhost:8080/",
          "height": 612
        },
        "id": "8lDBNS5sQWbl",
        "outputId": "e7ffba79-5fb0-4f2f-8011-a67369281a98"
      },
      "execution_count": 4,
      "outputs": [
        {
          "output_type": "display_data",
          "data": {
            "text/plain": [
              "<Figure size 1440x720 with 2 Axes>"
            ],
            "image/png": "[encoded data removed]"
          },
          "metadata": {
            "needs_background": "light"
          }
        }
      ]
    },
    {
      "cell_type": "code",
      "source": [
        "# Select columns for your feature matrix (X) and select PRICE for your target vector (y).\n",
        "# target y Price\n",
        "y = df['PRICE']\n",
        "\n",
        "# features RM, PTRATIO, LSTAT\n",
        "X = df[['RM', 'PTRATIO', 'LSTAT']]\n",
        "\n",
        "# Split your data into train and test groups. Please use random number 42 for consistency!\n",
        "X_train, X_test, y_train, y_test = train_test_split(X, y, random_state = 42)"
      ],
      "metadata": {
        "id": "NlHzPm6DQcuj"
      },
      "execution_count": 5,
      "outputs": []
    },
    {
      "cell_type": "code",
      "source": [
        "# create numerical selector\n",
        "num_selector = make_column_selector(dtype_include = 'number')"
      ],
      "metadata": {
        "id": "Jf7MkJDTd88v"
      },
      "execution_count": 6,
      "outputs": []
    },
    {
      "cell_type": "code",
      "source": [
        "# instatiate transformers\n",
        "scaler = StandardScaler()\n",
        "\n",
        "# create pipeline for numercial data\n",
        "num_pipe = make_pipeline(scaler)"
      ],
      "metadata": {
        "id": "8FKwBOAndFcd"
      },
      "execution_count": 7,
      "outputs": []
    },
    {
      "cell_type": "code",
      "source": [
        "# create numercial tuple\n",
        "num_tuple = (num_pipe, num_selector)"
      ],
      "metadata": {
        "id": "XQlyB_aZembt"
      },
      "execution_count": 8,
      "outputs": []
    },
    {
      "cell_type": "code",
      "source": [
        "# instantitate column transformer\n",
        "col_transformer = make_column_transformer(num_tuple, remainder = 'drop')"
      ],
      "metadata": {
        "id": "TgPxVHPnd2t_"
      },
      "execution_count": 9,
      "outputs": []
    },
    {
      "cell_type": "code",
      "source": [
        "# Instantiate your model and fit it on the training set.\n",
        "col_transformer.fit(X_train)"
      ],
      "metadata": {
        "colab": {
          "base_uri": "https://localhost:8080/"
        },
        "id": "bDqZ-eBnQcyw",
        "outputId": "e7b31e43-b7ff-4293-e13e-1f148ae3ea6e"
      },
      "execution_count": 10,
      "outputs": [
        {
          "output_type": "execute_result",
          "data": {
            "text/plain": [
              "ColumnTransformer(transformers=[('pipeline',\n",
              "                                 Pipeline(steps=[('standardscaler',\n",
              "                                                  StandardScaler())]),\n",
              "                                 <sklearn.compose._column_transformer.make_column_selector object at 0x7f0fad53d490>)])"
            ]
          },
          "metadata": {},
          "execution_count": 10
        }
      ]
    },
    {
      "cell_type": "code",
      "source": [
        "#  Evaluate your model performance using R^2 on the training set and on the test set.\n",
        "X_train_transformed = col_transformer.transform(X_train)\n",
        "X_test_transformed = col_transformer.transform(X_test)"
      ],
      "metadata": {
        "id": "gJQTq5SbfU01"
      },
      "execution_count": 11,
      "outputs": []
    },
    {
      "cell_type": "code",
      "source": [
        "# Instatiate regression model\n",
        "reg = LinearRegression()"
      ],
      "metadata": {
        "id": "60Xpt8z6f9XI"
      },
      "execution_count": 12,
      "outputs": []
    },
    {
      "cell_type": "code",
      "source": [
        "# train the model on training data\n",
        "# fit the model on the training data\n",
        "reg.fit(X_train_transformed, y_train)"
      ],
      "metadata": {
        "colab": {
          "base_uri": "https://localhost:8080/"
        },
        "id": "mOyBg2p2Y3OV",
        "outputId": "70b39a0d-21bf-4192-a2f5-d56959e62450"
      },
      "execution_count": 13,
      "outputs": [
        {
          "output_type": "execute_result",
          "data": {
            "text/plain": [
              "LinearRegression()"
            ]
          },
          "metadata": {},
          "execution_count": 13
        }
      ]
    },
    {
      "cell_type": "code",
      "source": [
        "# evaluate the training model\n",
        "trained_score = reg.score(X_train_transformed, y_train)\n",
        "print(trained_score)"
      ],
      "metadata": {
        "colab": {
          "base_uri": "https://localhost:8080/"
        },
        "id": "UuztuSPzZGZj",
        "outputId": "c95e7d7d-61fe-4090-c181-eba1267064ec"
      },
      "execution_count": 14,
      "outputs": [
        {
          "output_type": "stream",
          "name": "stdout",
          "text": [
            "0.6877966145058925\n"
          ]
        }
      ]
    },
    {
      "cell_type": "code",
      "source": [
        "# evaluate the test data\n",
        "tested_score = reg.score(X_test_transformed, y_test)  \n",
        "print(tested_score)\n",
        "\n",
        "# this suggests that the model is not as good as it should as it is only 63.31% on a 100% r2 scale"
      ],
      "metadata": {
        "colab": {
          "base_uri": "https://localhost:8080/"
        },
        "id": "MgLL3O7LZo74",
        "outputId": "18150ae9-452c-4578-c00c-e1c2111d6d03"
      },
      "execution_count": 16,
      "outputs": [
        {
          "output_type": "stream",
          "name": "stdout",
          "text": [
            "0.6331590458194676\n"
          ]
        }
      ]
    },
    {
      "cell_type": "code",
      "source": [
        "# get the predictions of the training set\n",
        "train_preds = reg.predict(X_train_transformed)\n",
        "\n",
        "# get the predictions of the test set\n",
        "test_preds = reg.predict(X_test_transformed)"
      ],
      "metadata": {
        "id": "GLe29Ejtbg4e"
      },
      "execution_count": 28,
      "outputs": []
    },
    {
      "cell_type": "code",
      "source": [
        "# Evaluate your model performance using R^2 on the training set and on the test set.\n",
        "# Is there a difference between model performance on the training data vs the test data?\n",
        "# yes there is a varaince of 7.9% between the train results and the test results based on the R2 score"
      ],
      "metadata": {
        "id": "AMKk8JNFf5p7"
      },
      "execution_count": 33,
      "outputs": []
    },
    {
      "cell_type": "code",
      "source": [
        "# 6) Evaluate your model using mean absolute error (MAE).\n",
        "mae_train = mean_absolute_error(y_train, train_preds)\n",
        "print(mae_train)"
      ],
      "metadata": {
        "colab": {
          "base_uri": "https://localhost:8080/"
        },
        "id": "eakUJzNAaH72",
        "outputId": "c72e5227-4cd7-4794-8674-df79a21ea024"
      },
      "execution_count": 37,
      "outputs": [
        {
          "output_type": "stream",
          "name": "stdout",
          "text": [
            "3.714054057158005\n"
          ]
        }
      ]
    },
    {
      "cell_type": "code",
      "source": [
        "# there is a variance of 9.4% between the training set and the test set using MAE\n",
        "# the predicted MAE score on the test set is 3.39 which is far from 0.0 hence this model is not accurate\n",
        "mae_test = mean_absolute_error(y_test, test_preds)\n",
        "print(mae_test)"
      ],
      "metadata": {
        "colab": {
          "base_uri": "https://localhost:8080/"
        },
        "id": "MQqelu49csF6",
        "outputId": "20b2fc34-61e4-4056-abf9-b1ad8bd2214b"
      },
      "execution_count": 38,
      "outputs": [
        {
          "output_type": "stream",
          "name": "stdout",
          "text": [
            "3.3918448293813976\n"
          ]
        }
      ]
    },
    {
      "cell_type": "code",
      "source": [
        "# 7) Evaluate your model using mean squared error (MSE)\n",
        "mse_train = mean_squared_error(y_train, train_preds)\n",
        "print(mse_train)"
      ],
      "metadata": {
        "colab": {
          "base_uri": "https://localhost:8080/"
        },
        "id": "liEedYa1aLFa",
        "outputId": "fe85f06f-ddf0-475e-8086-d82a863cf08d"
      },
      "execution_count": 40,
      "outputs": [
        {
          "output_type": "stream",
          "name": "stdout",
          "text": [
            "27.68673681796949\n"
          ]
        }
      ]
    },
    {
      "cell_type": "code",
      "source": [
        "# there is a variance of 7% between the training set and the test set using MAE\n",
        "mse_test = mean_squared_error(y_test, test_preds)\n",
        "print(mse_test)"
      ],
      "metadata": {
        "colab": {
          "base_uri": "https://localhost:8080/"
        },
        "id": "12pK44DPdeGl",
        "outputId": "57e0ce86-f53a-40e2-df16-0e4bf0c46b76"
      },
      "execution_count": 39,
      "outputs": [
        {
          "output_type": "stream",
          "name": "stdout",
          "text": [
            "25.688824196675963\n"
          ]
        }
      ]
    },
    {
      "cell_type": "code",
      "source": [
        "# 8) Evaluate your model performance using RMSE on the training set and on the test set.\n",
        "rmse_train = np.sqrt(mse_train)\n",
        "print(rmse_train)"
      ],
      "metadata": {
        "colab": {
          "base_uri": "https://localhost:8080/"
        },
        "id": "LT8pjGBHeGzz",
        "outputId": "71f0c80e-9c92-4478-808a-0379f9ec651d"
      },
      "execution_count": 42,
      "outputs": [
        {
          "output_type": "stream",
          "name": "stdout",
          "text": [
            "5.261818774717492\n"
          ]
        }
      ]
    },
    {
      "cell_type": "code",
      "source": [
        "# there is a variance of 3.9% between the training set and the test set using RMSE\n",
        "rmse_test = np.sqrt(mse_test)\n",
        "print(rmse_test)"
      ],
      "metadata": {
        "colab": {
          "base_uri": "https://localhost:8080/"
        },
        "id": "asjmeIoIhL4j",
        "outputId": "db650f36-be9b-47bf-aa7b-4fec81fbc353"
      },
      "execution_count": 43,
      "outputs": [
        {
          "output_type": "stream",
          "name": "stdout",
          "text": [
            "5.0684143671049595\n"
          ]
        }
      ]
    },
    {
      "cell_type": "markdown",
      "source": [
        "\n",
        "# This metric is useful because the units will be in the same units as your target vector. \n",
        "# In this case 1,000 of dollars."
      ],
      "metadata": {
        "id": "QwA7Pz4qeH40"
      }
    }
  ]
}